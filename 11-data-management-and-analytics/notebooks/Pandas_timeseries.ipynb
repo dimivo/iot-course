{
  "nbformat": 4,
  "nbformat_minor": 0,
  "metadata": {
    "colab": {
      "name": "Pandas timeseries.ipynb",
      "version": "0.3.2",
      "provenance": [],
      "collapsed_sections": []
    },
    "kernelspec": {
      "name": "python3",
      "display_name": "Python 3"
    }
  },
  "cells": [
    {
      "cell_type": "markdown",
      "metadata": {
        "id": "sQEazxu2HEUb",
        "colab_type": "text"
      },
      "source": [
        "# Analyzing time series with Pandas\n",
        "\n",
        "## Dataset\n",
        "We will use a sample dataset for occupancy detection: http://archive.ics.uci.edu/ml/datasets/Occupancy+Detection+\n",
        "\n",
        "First we download the dataset into the `./data` directory.\n",
        "\n",
        "Note: more datasets can be found here: https://machinelearningmastery.com/time-series-datasets-for-machine-learning/"
      ]
    },
    {
      "cell_type": "code",
      "metadata": {
        "id": "CDqPXAvaEkYV",
        "colab_type": "code",
        "outputId": "2f0ed026-1187-4846-ae51-d8e573356258",
        "colab": {
          "base_uri": "https://localhost:8080/",
          "height": 348
        }
      },
      "source": [
        "!pip -q install \"dask[complete]\" pyarrow \n",
        "!wget -q http://archive.ics.uci.edu/ml/machine-learning-databases/00357/occupancy_data.zip -O occupancy_data.zip\n",
        "!unzip -qq -o occupancy_data.zip -d data\n",
        "!ls -al ./data\n",
        "!head ./data/datatraining.txt"
      ],
      "execution_count": 1,
      "outputs": [
        {
          "output_type": "stream",
          "text": [
            "\u001b[K     |████████████████████████████████| 48.5MB 1.4MB/s \n",
            "\u001b[?25h  Building wheel for locket (setup.py) ... \u001b[?25l\u001b[?25hdone\n",
            "total 1476\n",
            "drwxr-xr-x 2 root root   4096 May  8 08:38 .\n",
            "drwxr-xr-x 1 root root   4096 May  8 08:38 ..\n",
            "-rw-r--r-- 1 root root 699664 Jan  5  2016 datatest2.txt\n",
            "-rw-r--r-- 1 root root 200766 Jan  5  2016 datatest.txt\n",
            "-rw-r--r-- 1 root root 596674 Jan  5  2016 datatraining.txt\n",
            "\"date\",\"Temperature\",\"Humidity\",\"Light\",\"CO2\",\"HumidityRatio\",\"Occupancy\"\n",
            "\"1\",\"2015-02-04 17:51:00\",23.18,27.272,426,721.25,0.00479298817650529,1\n",
            "\"2\",\"2015-02-04 17:51:59\",23.15,27.2675,429.5,714,0.00478344094931065,1\n",
            "\"3\",\"2015-02-04 17:53:00\",23.15,27.245,426,713.5,0.00477946352442199,1\n",
            "\"4\",\"2015-02-04 17:54:00\",23.15,27.2,426,708.25,0.00477150882608175,1\n",
            "\"5\",\"2015-02-04 17:55:00\",23.1,27.2,426,704.5,0.00475699293331518,1\n",
            "\"6\",\"2015-02-04 17:55:59\",23.1,27.2,419,701,0.00475699293331518,1\n",
            "\"7\",\"2015-02-04 17:57:00\",23.1,27.2,419,701.666666666667,0.00475699293331518,1\n",
            "\"8\",\"2015-02-04 17:57:59\",23.1,27.2,419,699,0.00475699293331518,1\n",
            "\"9\",\"2015-02-04 17:58:59\",23.1,27.2,419,689.333333333333,0.00475699293331518,1\n"
          ],
          "name": "stdout"
        }
      ]
    },
    {
      "cell_type": "code",
      "metadata": {
        "id": "sHH1Bgim-Fn9",
        "colab_type": "code",
        "outputId": "d920aa2c-e8d3-46fa-9bbe-38da32081be7",
        "colab": {
          "base_uri": "https://localhost:8080/",
          "height": 458
        }
      },
      "source": [
        "import pandas as pd\n",
        "import dask\n",
        "import dask.dataframe as dd\n",
        "import numpy as np\n",
        "\n",
        "# For more advanced date parsing use:\n",
        "import datetime\n",
        "dateparser = lambda x: pd.datetime.strptime(x, '%Y-%m-%d %H:%M:%S')  #https://docs.python.org/3/library/datetime.html#strftime-strptime-behavior\n",
        "#df = pd.read_csv(\"./data/datatraining.txt\", converters={'date':dateparser}); df.set_index('date',inplace=True,verify_integrity=True)\n",
        "\n",
        "# You can specify the desired dtypes explicitly. Beware that e.g. np.uint8 may overflow during subsequent operations.\n",
        "desired_dtypes={\n",
        "       'Temperature':np.float32,\n",
        "       'Humidity':np.float32,\n",
        "       'Light':np.float32,\n",
        "       'CO2':np.float32,\n",
        "       'HumidityRatio':np.float32,\n",
        "       'Occupancy':np.uint8\n",
        "}\n",
        "\n",
        "pdf = pd.read_csv(\"./data/datatraining.txt\",dtype=desired_dtypes, converters={'date':pd.to_datetime}) # or dateparser to be more explicit\n",
        "pdf.set_index('date',inplace=True,verify_integrity=True)\n",
        "\n",
        "print(pdf.info())\n",
        "pdf.head()\n"
      ],
      "execution_count": 2,
      "outputs": [
        {
          "output_type": "stream",
          "text": [
            "<class 'pandas.core.frame.DataFrame'>\n",
            "DatetimeIndex: 8143 entries, 2015-02-04 17:51:00 to 2015-02-10 09:33:00\n",
            "Data columns (total 6 columns):\n",
            "Temperature      8143 non-null float32\n",
            "Humidity         8143 non-null float32\n",
            "Light            8143 non-null float32\n",
            "CO2              8143 non-null float32\n",
            "HumidityRatio    8143 non-null float32\n",
            "Occupancy        8143 non-null uint8\n",
            "dtypes: float32(5), uint8(1)\n",
            "memory usage: 230.6 KB\n",
            "None\n"
          ],
          "name": "stdout"
        },
        {
          "output_type": "execute_result",
          "data": {
            "text/html": [
              "<div>\n",
              "<style scoped>\n",
              "    .dataframe tbody tr th:only-of-type {\n",
              "        vertical-align: middle;\n",
              "    }\n",
              "\n",
              "    .dataframe tbody tr th {\n",
              "        vertical-align: top;\n",
              "    }\n",
              "\n",
              "    .dataframe thead th {\n",
              "        text-align: right;\n",
              "    }\n",
              "</style>\n",
              "<table border=\"1\" class=\"dataframe\">\n",
              "  <thead>\n",
              "    <tr style=\"text-align: right;\">\n",
              "      <th></th>\n",
              "      <th>Temperature</th>\n",
              "      <th>Humidity</th>\n",
              "      <th>Light</th>\n",
              "      <th>CO2</th>\n",
              "      <th>HumidityRatio</th>\n",
              "      <th>Occupancy</th>\n",
              "    </tr>\n",
              "    <tr>\n",
              "      <th>date</th>\n",
              "      <th></th>\n",
              "      <th></th>\n",
              "      <th></th>\n",
              "      <th></th>\n",
              "      <th></th>\n",
              "      <th></th>\n",
              "    </tr>\n",
              "  </thead>\n",
              "  <tbody>\n",
              "    <tr>\n",
              "      <th>2015-02-04 17:51:00</th>\n",
              "      <td>23.18</td>\n",
              "      <td>27.271999</td>\n",
              "      <td>426.0</td>\n",
              "      <td>721.25</td>\n",
              "      <td>0.004793</td>\n",
              "      <td>1</td>\n",
              "    </tr>\n",
              "    <tr>\n",
              "      <th>2015-02-04 17:51:59</th>\n",
              "      <td>23.15</td>\n",
              "      <td>27.267500</td>\n",
              "      <td>429.5</td>\n",
              "      <td>714.00</td>\n",
              "      <td>0.004783</td>\n",
              "      <td>1</td>\n",
              "    </tr>\n",
              "    <tr>\n",
              "      <th>2015-02-04 17:53:00</th>\n",
              "      <td>23.15</td>\n",
              "      <td>27.245001</td>\n",
              "      <td>426.0</td>\n",
              "      <td>713.50</td>\n",
              "      <td>0.004779</td>\n",
              "      <td>1</td>\n",
              "    </tr>\n",
              "    <tr>\n",
              "      <th>2015-02-04 17:54:00</th>\n",
              "      <td>23.15</td>\n",
              "      <td>27.200001</td>\n",
              "      <td>426.0</td>\n",
              "      <td>708.25</td>\n",
              "      <td>0.004772</td>\n",
              "      <td>1</td>\n",
              "    </tr>\n",
              "    <tr>\n",
              "      <th>2015-02-04 17:55:00</th>\n",
              "      <td>23.10</td>\n",
              "      <td>27.200001</td>\n",
              "      <td>426.0</td>\n",
              "      <td>704.50</td>\n",
              "      <td>0.004757</td>\n",
              "      <td>1</td>\n",
              "    </tr>\n",
              "  </tbody>\n",
              "</table>\n",
              "</div>"
            ],
            "text/plain": [
              "                     Temperature   Humidity  Light     CO2  HumidityRatio  \\\n",
              "date                                                                        \n",
              "2015-02-04 17:51:00        23.18  27.271999  426.0  721.25       0.004793   \n",
              "2015-02-04 17:51:59        23.15  27.267500  429.5  714.00       0.004783   \n",
              "2015-02-04 17:53:00        23.15  27.245001  426.0  713.50       0.004779   \n",
              "2015-02-04 17:54:00        23.15  27.200001  426.0  708.25       0.004772   \n",
              "2015-02-04 17:55:00        23.10  27.200001  426.0  704.50       0.004757   \n",
              "\n",
              "                     Occupancy  \n",
              "date                            \n",
              "2015-02-04 17:51:00          1  \n",
              "2015-02-04 17:51:59          1  \n",
              "2015-02-04 17:53:00          1  \n",
              "2015-02-04 17:54:00          1  \n",
              "2015-02-04 17:55:00          1  "
            ]
          },
          "metadata": {
            "tags": []
          },
          "execution_count": 2
        }
      ]
    },
    {
      "cell_type": "code",
      "metadata": {
        "id": "BZQeivXZVgpX",
        "colab_type": "code",
        "outputId": "43029b19-4ad8-40f3-d0ce-69205e44bb94",
        "colab": {
          "base_uri": "https://localhost:8080/",
          "height": 164
        }
      },
      "source": [
        "# Equivalent but using dask (for multiple files and scalability)\n",
        "ddf = dd.read_csv('./data/*.txt',dtype=desired_dtypes,converters={'date':pd.to_datetime}).set_index('date')\n",
        "ddf.index # make sure it is indeed a DatetimeIndex"
      ],
      "execution_count": 3,
      "outputs": [
        {
          "output_type": "execute_result",
          "data": {
            "text/plain": [
              "Dask Index Structure:\n",
              "npartitions=3\n",
              "2015-02-02 14:19:00.000000000    datetime64[ns]\n",
              "2015-02-06 20:44:14.750000128               ...\n",
              "2015-02-12 23:18:12.000000000               ...\n",
              "2015-02-18 09:19:00.000000000               ...\n",
              "Name: date, dtype: datetime64[ns]\n",
              "Dask Name: sort_index, 35 tasks"
            ]
          },
          "metadata": {
            "tags": []
          },
          "execution_count": 3
        }
      ]
    },
    {
      "cell_type": "code",
      "metadata": {
        "id": "B_r9UVVxYO8Q",
        "colab_type": "code",
        "outputId": "255bea5e-306c-4b79-96d4-93364ab87bac",
        "colab": {
          "base_uri": "https://localhost:8080/",
          "height": 458
        }
      },
      "source": [
        "pdf = ddf.compute() # converting from dask to pandas data frame\n",
        "print(pdf.info())\n",
        "pdf.head()"
      ],
      "execution_count": 4,
      "outputs": [
        {
          "output_type": "stream",
          "text": [
            "<class 'pandas.core.frame.DataFrame'>\n",
            "DatetimeIndex: 20560 entries, 2015-02-02 14:19:00 to 2015-02-18 09:19:00\n",
            "Data columns (total 6 columns):\n",
            "Temperature      20560 non-null float32\n",
            "Humidity         20560 non-null float32\n",
            "Light            20560 non-null float32\n",
            "CO2              20560 non-null float32\n",
            "HumidityRatio    20560 non-null float32\n",
            "Occupancy        20560 non-null uint8\n",
            "dtypes: float32(5), uint8(1)\n",
            "memory usage: 582.3 KB\n",
            "None\n"
          ],
          "name": "stdout"
        },
        {
          "output_type": "execute_result",
          "data": {
            "text/html": [
              "<div>\n",
              "<style scoped>\n",
              "    .dataframe tbody tr th:only-of-type {\n",
              "        vertical-align: middle;\n",
              "    }\n",
              "\n",
              "    .dataframe tbody tr th {\n",
              "        vertical-align: top;\n",
              "    }\n",
              "\n",
              "    .dataframe thead th {\n",
              "        text-align: right;\n",
              "    }\n",
              "</style>\n",
              "<table border=\"1\" class=\"dataframe\">\n",
              "  <thead>\n",
              "    <tr style=\"text-align: right;\">\n",
              "      <th></th>\n",
              "      <th>Temperature</th>\n",
              "      <th>Humidity</th>\n",
              "      <th>Light</th>\n",
              "      <th>CO2</th>\n",
              "      <th>HumidityRatio</th>\n",
              "      <th>Occupancy</th>\n",
              "    </tr>\n",
              "    <tr>\n",
              "      <th>date</th>\n",
              "      <th></th>\n",
              "      <th></th>\n",
              "      <th></th>\n",
              "      <th></th>\n",
              "      <th></th>\n",
              "      <th></th>\n",
              "    </tr>\n",
              "  </thead>\n",
              "  <tbody>\n",
              "    <tr>\n",
              "      <th>2015-02-02 14:19:00</th>\n",
              "      <td>23.700001</td>\n",
              "      <td>26.271999</td>\n",
              "      <td>585.200012</td>\n",
              "      <td>749.200012</td>\n",
              "      <td>0.004764</td>\n",
              "      <td>1</td>\n",
              "    </tr>\n",
              "    <tr>\n",
              "      <th>2015-02-02 14:19:59</th>\n",
              "      <td>23.718000</td>\n",
              "      <td>26.290001</td>\n",
              "      <td>578.400024</td>\n",
              "      <td>760.400024</td>\n",
              "      <td>0.004773</td>\n",
              "      <td>1</td>\n",
              "    </tr>\n",
              "    <tr>\n",
              "      <th>2015-02-02 14:21:00</th>\n",
              "      <td>23.730000</td>\n",
              "      <td>26.230000</td>\n",
              "      <td>572.666687</td>\n",
              "      <td>769.666687</td>\n",
              "      <td>0.004765</td>\n",
              "      <td>1</td>\n",
              "    </tr>\n",
              "    <tr>\n",
              "      <th>2015-02-02 14:22:00</th>\n",
              "      <td>23.722500</td>\n",
              "      <td>26.125000</td>\n",
              "      <td>493.750000</td>\n",
              "      <td>774.750000</td>\n",
              "      <td>0.004744</td>\n",
              "      <td>1</td>\n",
              "    </tr>\n",
              "    <tr>\n",
              "      <th>2015-02-02 14:23:00</th>\n",
              "      <td>23.754000</td>\n",
              "      <td>26.200001</td>\n",
              "      <td>488.600006</td>\n",
              "      <td>779.000000</td>\n",
              "      <td>0.004767</td>\n",
              "      <td>1</td>\n",
              "    </tr>\n",
              "  </tbody>\n",
              "</table>\n",
              "</div>"
            ],
            "text/plain": [
              "                     Temperature   Humidity       Light         CO2  \\\n",
              "date                                                                  \n",
              "2015-02-02 14:19:00    23.700001  26.271999  585.200012  749.200012   \n",
              "2015-02-02 14:19:59    23.718000  26.290001  578.400024  760.400024   \n",
              "2015-02-02 14:21:00    23.730000  26.230000  572.666687  769.666687   \n",
              "2015-02-02 14:22:00    23.722500  26.125000  493.750000  774.750000   \n",
              "2015-02-02 14:23:00    23.754000  26.200001  488.600006  779.000000   \n",
              "\n",
              "                     HumidityRatio  Occupancy  \n",
              "date                                           \n",
              "2015-02-02 14:19:00       0.004764          1  \n",
              "2015-02-02 14:19:59       0.004773          1  \n",
              "2015-02-02 14:21:00       0.004765          1  \n",
              "2015-02-02 14:22:00       0.004744          1  \n",
              "2015-02-02 14:23:00       0.004767          1  "
            ]
          },
          "metadata": {
            "tags": []
          },
          "execution_count": 4
        }
      ]
    },
    {
      "cell_type": "code",
      "metadata": {
        "id": "84roeA0np5fK",
        "colab_type": "code",
        "outputId": "c6d4c875-59ea-47c5-afb5-0a0785261b1f",
        "colab": {
          "base_uri": "https://localhost:8080/",
          "height": 405
        }
      },
      "source": [
        "pdf.plot(figsize=(15, 6))"
      ],
      "execution_count": 8,
      "outputs": [
        {
          "output_type": "execute_result",
          "data": {
            "text/plain": [
              "<matplotlib.axes._subplots.AxesSubplot at 0x7f1b12653f60>"
            ]
          },
          "metadata": {
            "tags": []
          },
          "execution_count": 8
        },
        {
          "output_type": "display_data",
          "data": {
            "image/png": "[encoded data removed]",
            "text/plain": [
              "<Figure size 1080x432 with 1 Axes>"
            ]
          },
          "metadata": {
            "tags": []
          }
        }
      ]
    },
    {
      "cell_type": "markdown",
      "metadata": {
        "id": "1RzvBVbRNgi_",
        "colab_type": "text"
      },
      "source": [
        "Because of the different scale of the quantities, we can't inspect them visually. Quick and dirty trick is to use a log plot."
      ]
    },
    {
      "cell_type": "code",
      "metadata": {
        "id": "vS60Mo20-O2o",
        "colab_type": "code",
        "outputId": "a256a2f6-525e-4e57-fcf9-12e9e423e0e5",
        "colab": {
          "base_uri": "https://localhost:8080/",
          "height": 405
        }
      },
      "source": [
        "pdf.plot(figsize=(15, 6),logy=True)"
      ],
      "execution_count": 9,
      "outputs": [
        {
          "output_type": "execute_result",
          "data": {
            "text/plain": [
              "<matplotlib.axes._subplots.AxesSubplot at 0x7f1b0f890630>"
            ]
          },
          "metadata": {
            "tags": []
          },
          "execution_count": 9
        },
        {
          "output_type": "display_data",
          "data": {
            "image/png": "[encoded data removed]",
            "text/plain": [
              "<Figure size 1080x432 with 1 Axes>"
            ]
          },
          "metadata": {
            "tags": []
          }
        }
      ]
    },
    {
      "cell_type": "markdown",
      "metadata": {
        "id": "dEIjMgJyNun3",
        "colab_type": "text"
      },
      "source": [
        "Or we can scale the quantities"
      ]
    },
    {
      "cell_type": "code",
      "metadata": {
        "id": "i724GbtTNf9I",
        "colab_type": "code",
        "outputId": "5dd71aac-d162-4b38-ac4f-ef8ee9607441",
        "colab": {
          "base_uri": "https://localhost:8080/",
          "height": 405
        }
      },
      "source": [
        "from sklearn.preprocessing import MinMaxScaler\n",
        "mms = MinMaxScaler()\n",
        "\n",
        "columns_to_normalize = ['CO2','Light','Humidity','Temperature']\n",
        "for c in columns_to_normalize:\n",
        "  x = pdf[[c]].values.astype(float)\n",
        "  scaled = mms.fit_transform(x)\n",
        "  pdf[c] = scaled\n",
        "\n",
        "pdf['Occupancy'] *= 0.5\n",
        "pdf.plot(figsize=(15, 6))"
      ],
      "execution_count": 10,
      "outputs": [
        {
          "output_type": "execute_result",
          "data": {
            "text/plain": [
              "<matplotlib.axes._subplots.AxesSubplot at 0x7f1b061226d8>"
            ]
          },
          "metadata": {
            "tags": []
          },
          "execution_count": 10
        },
        {
          "output_type": "display_data",
          "data": {
            "image/png": "[encoded data removed]",
            "text/plain": [
              "<Figure size 1080x432 with 1 Axes>"
            ]
          },
          "metadata": {
            "tags": []
          }
        }
      ]
    },
    {
      "cell_type": "markdown",
      "metadata": {
        "id": "yv1114oinwRY",
        "colab_type": "text"
      },
      "source": [
        "Looks like too much info? You can plot individual columns as well."
      ]
    },
    {
      "cell_type": "code",
      "metadata": {
        "id": "lCYdAQfDnpAh",
        "colab_type": "code",
        "outputId": "d65c9bbf-eb25-49b0-e435-37828cf9285f",
        "colab": {
          "base_uri": "https://localhost:8080/",
          "height": 405
        }
      },
      "source": [
        "pdf['Humidity'].plot(figsize=(15, 6))"
      ],
      "execution_count": 11,
      "outputs": [
        {
          "output_type": "execute_result",
          "data": {
            "text/plain": [
              "<matplotlib.axes._subplots.AxesSubplot at 0x7f1b06001a58>"
            ]
          },
          "metadata": {
            "tags": []
          },
          "execution_count": 11
        },
        {
          "output_type": "display_data",
          "data": {
            "image/png": "[encoded data removed]",
            "text/plain": [
              "<Figure size 1080x432 with 1 Axes>"
            ]
          },
          "metadata": {
            "tags": []
          }
        }
      ]
    },
    {
      "cell_type": "code",
      "metadata": {
        "id": "Sl5TL4ndqEYo",
        "colab_type": "code",
        "outputId": "7455da8b-aad7-4029-c2e7-43822b75e830",
        "colab": {
          "base_uri": "https://localhost:8080/",
          "height": 143
        }
      },
      "source": [
        "# Aggregates\n",
        "pdf.groupby('Occupancy').mean() "
      ],
      "execution_count": 12,
      "outputs": [
        {
          "output_type": "execute_result",
          "data": {
            "text/html": [
              "<div>\n",
              "<style scoped>\n",
              "    .dataframe tbody tr th:only-of-type {\n",
              "        vertical-align: middle;\n",
              "    }\n",
              "\n",
              "    .dataframe tbody tr th {\n",
              "        vertical-align: top;\n",
              "    }\n",
              "\n",
              "    .dataframe thead th {\n",
              "        text-align: right;\n",
              "    }\n",
              "</style>\n",
              "<table border=\"1\" class=\"dataframe\">\n",
              "  <thead>\n",
              "    <tr style=\"text-align: right;\">\n",
              "      <th></th>\n",
              "      <th>Temperature</th>\n",
              "      <th>Humidity</th>\n",
              "      <th>Light</th>\n",
              "      <th>CO2</th>\n",
              "      <th>HumidityRatio</th>\n",
              "    </tr>\n",
              "    <tr>\n",
              "      <th>Occupancy</th>\n",
              "      <th></th>\n",
              "      <th></th>\n",
              "      <th></th>\n",
              "      <th></th>\n",
              "      <th></th>\n",
              "    </tr>\n",
              "  </thead>\n",
              "  <tbody>\n",
              "    <tr>\n",
              "      <th>0.0</th>\n",
              "      <td>0.293035</td>\n",
              "      <td>0.473947</td>\n",
              "      <td>0.01487</td>\n",
              "      <td>0.115550</td>\n",
              "      <td>0.004120</td>\n",
              "    </tr>\n",
              "    <tr>\n",
              "      <th>0.5</th>\n",
              "      <td>0.550245</td>\n",
              "      <td>0.497966</td>\n",
              "      <td>0.28397</td>\n",
              "      <td>0.338135</td>\n",
              "      <td>0.004589</td>\n",
              "    </tr>\n",
              "  </tbody>\n",
              "</table>\n",
              "</div>"
            ],
            "text/plain": [
              "           Temperature  Humidity    Light       CO2  HumidityRatio\n",
              "Occupancy                                                         \n",
              "0.0           0.293035  0.473947  0.01487  0.115550       0.004120\n",
              "0.5           0.550245  0.497966  0.28397  0.338135       0.004589"
            ]
          },
          "metadata": {
            "tags": []
          },
          "execution_count": 12
        }
      ]
    },
    {
      "cell_type": "code",
      "metadata": {
        "id": "S07B3BAVpZ1E",
        "colab_type": "code",
        "outputId": "1ed03be9-e412-48d4-d06c-139e91b65e96",
        "colab": {
          "base_uri": "https://localhost:8080/",
          "height": 143
        }
      },
      "source": [
        "# Can be done in dask too, e.g. for big datasets\n",
        "ddf.groupby('Occupancy').mean().compute()"
      ],
      "execution_count": 13,
      "outputs": [
        {
          "output_type": "execute_result",
          "data": {
            "text/html": [
              "<div>\n",
              "<style scoped>\n",
              "    .dataframe tbody tr th:only-of-type {\n",
              "        vertical-align: middle;\n",
              "    }\n",
              "\n",
              "    .dataframe tbody tr th {\n",
              "        vertical-align: top;\n",
              "    }\n",
              "\n",
              "    .dataframe thead th {\n",
              "        text-align: right;\n",
              "    }\n",
              "</style>\n",
              "<table border=\"1\" class=\"dataframe\">\n",
              "  <thead>\n",
              "    <tr style=\"text-align: right;\">\n",
              "      <th></th>\n",
              "      <th>Temperature</th>\n",
              "      <th>Humidity</th>\n",
              "      <th>Light</th>\n",
              "      <th>CO2</th>\n",
              "      <th>HumidityRatio</th>\n",
              "    </tr>\n",
              "    <tr>\n",
              "      <th>Occupancy</th>\n",
              "      <th></th>\n",
              "      <th></th>\n",
              "      <th></th>\n",
              "      <th></th>\n",
              "      <th></th>\n",
              "    </tr>\n",
              "  </thead>\n",
              "  <tbody>\n",
              "    <tr>\n",
              "      <th>0</th>\n",
              "      <td>20.584830</td>\n",
              "      <td>27.529653</td>\n",
              "      <td>25.237893</td>\n",
              "      <td>604.996584</td>\n",
              "      <td>0.004120</td>\n",
              "    </tr>\n",
              "    <tr>\n",
              "      <th>1</th>\n",
              "      <td>21.975908</td>\n",
              "      <td>28.076211</td>\n",
              "      <td>481.967368</td>\n",
              "      <td>975.321895</td>\n",
              "      <td>0.004589</td>\n",
              "    </tr>\n",
              "  </tbody>\n",
              "</table>\n",
              "</div>"
            ],
            "text/plain": [
              "           Temperature   Humidity       Light         CO2  HumidityRatio\n",
              "Occupancy                                                               \n",
              "0            20.584830  27.529653   25.237893  604.996584       0.004120\n",
              "1            21.975908  28.076211  481.967368  975.321895       0.004589"
            ]
          },
          "metadata": {
            "tags": []
          },
          "execution_count": 13
        }
      ]
    },
    {
      "cell_type": "markdown",
      "metadata": {
        "id": "2HG4VxwmrabZ",
        "colab_type": "text"
      },
      "source": [
        "Parquet format is more space efficient than CSV and allows for faster projections and index searches"
      ]
    },
    {
      "cell_type": "code",
      "metadata": {
        "id": "irQrToF_qcCI",
        "colab_type": "code",
        "colab": {
          "base_uri": "https://localhost:8080/",
          "height": 164
        },
        "outputId": "107fd6f6-8841-4558-c5b0-42a8994c4375"
      },
      "source": [
        "ddf.to_parquet('data/2000-01.parquet', engine='pyarrow') # save dask dataframe as parquet\n",
        "\n",
        "!ls -al data\n",
        "!du -h data/2000-01.parquet"
      ],
      "execution_count": 14,
      "outputs": [
        {
          "output_type": "stream",
          "text": [
            "total 1480\n",
            "drwxr-xr-x 3 root root   4096 May  7 06:07 .\n",
            "drwxr-xr-x 1 root root   4096 May  7 05:59 ..\n",
            "drwxr-xr-x 2 root root   4096 May  7 06:07 2000-01.parquet\n",
            "-rw-r--r-- 1 root root 699664 Jan  5  2016 datatest2.txt\n",
            "-rw-r--r-- 1 root root 200766 Jan  5  2016 datatest.txt\n",
            "-rw-r--r-- 1 root root 596674 Jan  5  2016 datatraining.txt\n",
            "388K\tdata/2000-01.parquet\n"
          ],
          "name": "stdout"
        }
      ]
    },
    {
      "cell_type": "code",
      "metadata": {
        "id": "9U889P2oeltu",
        "colab_type": "code",
        "colab": {}
      },
      "source": [
        "# http://docs.dask.org/en/latest/use-cases.html\n",
        "#df = dd.read_parquet('data/2000-01.parquet', engine='pyarrow')"
      ],
      "execution_count": 0,
      "outputs": []
    },
    {
      "cell_type": "markdown",
      "metadata": {
        "id": "UX365eBVvKlS",
        "colab_type": "text"
      },
      "source": [
        "I/O tips:\n",
        "\n",
        "https://colab.research.google.com/notebooks/io.ipynb"
      ]
    },
    {
      "cell_type": "code",
      "metadata": {
        "id": "6Lf-y1gbvLFI",
        "colab_type": "code",
        "outputId": "c7190cc0-6f84-4d3c-a705-484c19912c00",
        "colab": {
          "base_uri": "https://localhost:8080/",
          "height": 238
        }
      },
      "source": [
        "# resample to 1 hour\n",
        "ddf.resample('1h').mean().head()\n"
      ],
      "execution_count": 15,
      "outputs": [
        {
          "output_type": "execute_result",
          "data": {
            "text/html": [
              "<div>\n",
              "<style scoped>\n",
              "    .dataframe tbody tr th:only-of-type {\n",
              "        vertical-align: middle;\n",
              "    }\n",
              "\n",
              "    .dataframe tbody tr th {\n",
              "        vertical-align: top;\n",
              "    }\n",
              "\n",
              "    .dataframe thead th {\n",
              "        text-align: right;\n",
              "    }\n",
              "</style>\n",
              "<table border=\"1\" class=\"dataframe\">\n",
              "  <thead>\n",
              "    <tr style=\"text-align: right;\">\n",
              "      <th></th>\n",
              "      <th>Temperature</th>\n",
              "      <th>Humidity</th>\n",
              "      <th>Light</th>\n",
              "      <th>CO2</th>\n",
              "      <th>HumidityRatio</th>\n",
              "      <th>Occupancy</th>\n",
              "    </tr>\n",
              "    <tr>\n",
              "      <th>date</th>\n",
              "      <th></th>\n",
              "      <th></th>\n",
              "      <th></th>\n",
              "      <th></th>\n",
              "      <th></th>\n",
              "      <th></th>\n",
              "    </tr>\n",
              "  </thead>\n",
              "  <tbody>\n",
              "    <tr>\n",
              "      <th>2015-02-02 14:00:00</th>\n",
              "      <td>23.657118</td>\n",
              "      <td>27.023720</td>\n",
              "      <td>499.978119</td>\n",
              "      <td>898.784851</td>\n",
              "      <td>0.004889</td>\n",
              "      <td>1.000000</td>\n",
              "    </tr>\n",
              "    <tr>\n",
              "      <th>2015-02-02 15:00:00</th>\n",
              "      <td>23.293951</td>\n",
              "      <td>28.412430</td>\n",
              "      <td>456.719055</td>\n",
              "      <td>1103.186279</td>\n",
              "      <td>0.005030</td>\n",
              "      <td>1.000000</td>\n",
              "    </tr>\n",
              "    <tr>\n",
              "      <th>2015-02-02 16:00:00</th>\n",
              "      <td>22.773142</td>\n",
              "      <td>26.737452</td>\n",
              "      <td>434.838989</td>\n",
              "      <td>979.565979</td>\n",
              "      <td>0.004585</td>\n",
              "      <td>1.000000</td>\n",
              "    </tr>\n",
              "    <tr>\n",
              "      <th>2015-02-02 17:00:00</th>\n",
              "      <td>22.534519</td>\n",
              "      <td>24.972128</td>\n",
              "      <td>426.736145</td>\n",
              "      <td>822.562866</td>\n",
              "      <td>0.004217</td>\n",
              "      <td>0.610169</td>\n",
              "    </tr>\n",
              "    <tr>\n",
              "      <th>2015-02-02 18:00:00</th>\n",
              "      <td>21.993372</td>\n",
              "      <td>24.595966</td>\n",
              "      <td>32.984165</td>\n",
              "      <td>720.400269</td>\n",
              "      <td>0.004018</td>\n",
              "      <td>0.083333</td>\n",
              "    </tr>\n",
              "  </tbody>\n",
              "</table>\n",
              "</div>"
            ],
            "text/plain": [
              "                     Temperature   Humidity       Light          CO2  \\\n",
              "date                                                                   \n",
              "2015-02-02 14:00:00    23.657118  27.023720  499.978119   898.784851   \n",
              "2015-02-02 15:00:00    23.293951  28.412430  456.719055  1103.186279   \n",
              "2015-02-02 16:00:00    22.773142  26.737452  434.838989   979.565979   \n",
              "2015-02-02 17:00:00    22.534519  24.972128  426.736145   822.562866   \n",
              "2015-02-02 18:00:00    21.993372  24.595966   32.984165   720.400269   \n",
              "\n",
              "                     HumidityRatio  Occupancy  \n",
              "date                                           \n",
              "2015-02-02 14:00:00       0.004889   1.000000  \n",
              "2015-02-02 15:00:00       0.005030   1.000000  \n",
              "2015-02-02 16:00:00       0.004585   1.000000  \n",
              "2015-02-02 17:00:00       0.004217   0.610169  \n",
              "2015-02-02 18:00:00       0.004018   0.083333  "
            ]
          },
          "metadata": {
            "tags": []
          },
          "execution_count": 15
        }
      ]
    },
    {
      "cell_type": "code",
      "metadata": {
        "id": "L8eGqq5s-i4z",
        "colab_type": "code",
        "outputId": "218faacd-6d9b-4c6b-899e-274d807d09b7",
        "colab": {
          "base_uri": "https://localhost:8080/",
          "height": 238
        }
      },
      "source": [
        "# Daily aggregates\n",
        "ddf.resample('24h').mean().head(npartitions=3) # Dask head will span only the first partition by default"
      ],
      "execution_count": 17,
      "outputs": [
        {
          "output_type": "execute_result",
          "data": {
            "text/html": [
              "<div>\n",
              "<style scoped>\n",
              "    .dataframe tbody tr th:only-of-type {\n",
              "        vertical-align: middle;\n",
              "    }\n",
              "\n",
              "    .dataframe tbody tr th {\n",
              "        vertical-align: top;\n",
              "    }\n",
              "\n",
              "    .dataframe thead th {\n",
              "        text-align: right;\n",
              "    }\n",
              "</style>\n",
              "<table border=\"1\" class=\"dataframe\">\n",
              "  <thead>\n",
              "    <tr style=\"text-align: right;\">\n",
              "      <th></th>\n",
              "      <th>Temperature</th>\n",
              "      <th>Humidity</th>\n",
              "      <th>Light</th>\n",
              "      <th>CO2</th>\n",
              "      <th>HumidityRatio</th>\n",
              "      <th>Occupancy</th>\n",
              "    </tr>\n",
              "    <tr>\n",
              "      <th>date</th>\n",
              "      <th></th>\n",
              "      <th></th>\n",
              "      <th></th>\n",
              "      <th></th>\n",
              "      <th></th>\n",
              "      <th></th>\n",
              "    </tr>\n",
              "  </thead>\n",
              "  <tbody>\n",
              "    <tr>\n",
              "      <th>2015-02-02</th>\n",
              "      <td>21.825354</td>\n",
              "      <td>24.579990</td>\n",
              "      <td>174.843216</td>\n",
              "      <td>695.649475</td>\n",
              "      <td>0.004001</td>\n",
              "      <td>0.349398</td>\n",
              "    </tr>\n",
              "    <tr>\n",
              "      <th>2015-02-03</th>\n",
              "      <td>21.438301</td>\n",
              "      <td>25.889320</td>\n",
              "      <td>211.852570</td>\n",
              "      <td>783.349792</td>\n",
              "      <td>0.004119</td>\n",
              "      <td>0.415972</td>\n",
              "    </tr>\n",
              "    <tr>\n",
              "      <th>2015-02-04</th>\n",
              "      <td>21.323767</td>\n",
              "      <td>25.422657</td>\n",
              "      <td>113.565483</td>\n",
              "      <td>571.179749</td>\n",
              "      <td>0.003997</td>\n",
              "      <td>0.183613</td>\n",
              "    </tr>\n",
              "    <tr>\n",
              "      <th>2015-02-05</th>\n",
              "      <td>21.469044</td>\n",
              "      <td>24.189299</td>\n",
              "      <td>196.227936</td>\n",
              "      <td>685.939514</td>\n",
              "      <td>0.003841</td>\n",
              "      <td>0.374306</td>\n",
              "    </tr>\n",
              "    <tr>\n",
              "      <th>2015-02-06</th>\n",
              "      <td>20.880501</td>\n",
              "      <td>19.838108</td>\n",
              "      <td>199.104202</td>\n",
              "      <td>597.644043</td>\n",
              "      <td>0.003029</td>\n",
              "      <td>0.406944</td>\n",
              "    </tr>\n",
              "  </tbody>\n",
              "</table>\n",
              "</div>"
            ],
            "text/plain": [
              "            Temperature   Humidity       Light         CO2  HumidityRatio  \\\n",
              "date                                                                        \n",
              "2015-02-02    21.825354  24.579990  174.843216  695.649475       0.004001   \n",
              "2015-02-03    21.438301  25.889320  211.852570  783.349792       0.004119   \n",
              "2015-02-04    21.323767  25.422657  113.565483  571.179749       0.003997   \n",
              "2015-02-05    21.469044  24.189299  196.227936  685.939514       0.003841   \n",
              "2015-02-06    20.880501  19.838108  199.104202  597.644043       0.003029   \n",
              "\n",
              "            Occupancy  \n",
              "date                   \n",
              "2015-02-02   0.349398  \n",
              "2015-02-03   0.415972  \n",
              "2015-02-04   0.183613  \n",
              "2015-02-05   0.374306  \n",
              "2015-02-06   0.406944  "
            ]
          },
          "metadata": {
            "tags": []
          },
          "execution_count": 17
        }
      ]
    },
    {
      "cell_type": "code",
      "metadata": {
        "id": "3Fl1x1nxhnwK",
        "colab_type": "code",
        "outputId": "0568aa76-7dd3-424b-cea1-ddb512ad251c",
        "colab": {
          "base_uri": "https://localhost:8080/",
          "height": 238
        }
      },
      "source": [
        "# Rolling windows\n",
        "ddf[['Light','CO2']].resample('1h').mean().rolling(window='10h').mean().head() #http://docs.dask.org/en/latest/dataframe-api.html#dask.dataframe.DataFrame.rolling"
      ],
      "execution_count": 18,
      "outputs": [
        {
          "output_type": "execute_result",
          "data": {
            "text/html": [
              "<div>\n",
              "<style scoped>\n",
              "    .dataframe tbody tr th:only-of-type {\n",
              "        vertical-align: middle;\n",
              "    }\n",
              "\n",
              "    .dataframe tbody tr th {\n",
              "        vertical-align: top;\n",
              "    }\n",
              "\n",
              "    .dataframe thead th {\n",
              "        text-align: right;\n",
              "    }\n",
              "</style>\n",
              "<table border=\"1\" class=\"dataframe\">\n",
              "  <thead>\n",
              "    <tr style=\"text-align: right;\">\n",
              "      <th></th>\n",
              "      <th>Light</th>\n",
              "      <th>CO2</th>\n",
              "    </tr>\n",
              "    <tr>\n",
              "      <th>date</th>\n",
              "      <th></th>\n",
              "      <th></th>\n",
              "    </tr>\n",
              "  </thead>\n",
              "  <tbody>\n",
              "    <tr>\n",
              "      <th>2015-02-02 14:00:00</th>\n",
              "      <td>499.978119</td>\n",
              "      <td>898.784851</td>\n",
              "    </tr>\n",
              "    <tr>\n",
              "      <th>2015-02-02 15:00:00</th>\n",
              "      <td>478.348587</td>\n",
              "      <td>1000.985565</td>\n",
              "    </tr>\n",
              "    <tr>\n",
              "      <th>2015-02-02 16:00:00</th>\n",
              "      <td>463.845388</td>\n",
              "      <td>993.845703</td>\n",
              "    </tr>\n",
              "    <tr>\n",
              "      <th>2015-02-02 17:00:00</th>\n",
              "      <td>454.568077</td>\n",
              "      <td>951.024994</td>\n",
              "    </tr>\n",
              "    <tr>\n",
              "      <th>2015-02-02 18:00:00</th>\n",
              "      <td>370.251295</td>\n",
              "      <td>904.900049</td>\n",
              "    </tr>\n",
              "  </tbody>\n",
              "</table>\n",
              "</div>"
            ],
            "text/plain": [
              "                          Light          CO2\n",
              "date                                        \n",
              "2015-02-02 14:00:00  499.978119   898.784851\n",
              "2015-02-02 15:00:00  478.348587  1000.985565\n",
              "2015-02-02 16:00:00  463.845388   993.845703\n",
              "2015-02-02 17:00:00  454.568077   951.024994\n",
              "2015-02-02 18:00:00  370.251295   904.900049"
            ]
          },
          "metadata": {
            "tags": []
          },
          "execution_count": 18
        }
      ]
    },
    {
      "cell_type": "code",
      "metadata": {
        "id": "QLXtTkSds9cM",
        "colab_type": "code",
        "outputId": "af0756f4-3d7d-48be-a39e-12d50bbf5d40",
        "colab": {
          "base_uri": "https://localhost:8080/",
          "height": 238
        }
      },
      "source": [
        "# Effective index location access\n",
        "ddf.loc['2015-02-18'].head()"
      ],
      "execution_count": 19,
      "outputs": [
        {
          "output_type": "execute_result",
          "data": {
            "text/html": [
              "<div>\n",
              "<style scoped>\n",
              "    .dataframe tbody tr th:only-of-type {\n",
              "        vertical-align: middle;\n",
              "    }\n",
              "\n",
              "    .dataframe tbody tr th {\n",
              "        vertical-align: top;\n",
              "    }\n",
              "\n",
              "    .dataframe thead th {\n",
              "        text-align: right;\n",
              "    }\n",
              "</style>\n",
              "<table border=\"1\" class=\"dataframe\">\n",
              "  <thead>\n",
              "    <tr style=\"text-align: right;\">\n",
              "      <th></th>\n",
              "      <th>Temperature</th>\n",
              "      <th>Humidity</th>\n",
              "      <th>Light</th>\n",
              "      <th>CO2</th>\n",
              "      <th>HumidityRatio</th>\n",
              "      <th>Occupancy</th>\n",
              "    </tr>\n",
              "    <tr>\n",
              "      <th>date</th>\n",
              "      <th></th>\n",
              "      <th></th>\n",
              "      <th></th>\n",
              "      <th></th>\n",
              "      <th></th>\n",
              "      <th></th>\n",
              "    </tr>\n",
              "  </thead>\n",
              "  <tbody>\n",
              "    <tr>\n",
              "      <th>2015-02-18 00:00:00</th>\n",
              "      <td>20.889999</td>\n",
              "      <td>29.445000</td>\n",
              "      <td>0.0</td>\n",
              "      <td>1201.500000</td>\n",
              "      <td>0.004498</td>\n",
              "      <td>0</td>\n",
              "    </tr>\n",
              "    <tr>\n",
              "      <th>2015-02-18 00:01:00</th>\n",
              "      <td>20.889999</td>\n",
              "      <td>29.500000</td>\n",
              "      <td>0.0</td>\n",
              "      <td>1201.500000</td>\n",
              "      <td>0.004507</td>\n",
              "      <td>0</td>\n",
              "    </tr>\n",
              "    <tr>\n",
              "      <th>2015-02-18 00:02:00</th>\n",
              "      <td>20.889999</td>\n",
              "      <td>29.500000</td>\n",
              "      <td>0.0</td>\n",
              "      <td>1205.000000</td>\n",
              "      <td>0.004507</td>\n",
              "      <td>0</td>\n",
              "    </tr>\n",
              "    <tr>\n",
              "      <th>2015-02-18 00:03:00</th>\n",
              "      <td>20.889999</td>\n",
              "      <td>29.463333</td>\n",
              "      <td>0.0</td>\n",
              "      <td>1212.666626</td>\n",
              "      <td>0.004501</td>\n",
              "      <td>0</td>\n",
              "    </tr>\n",
              "    <tr>\n",
              "      <th>2015-02-18 00:04:00</th>\n",
              "      <td>20.889999</td>\n",
              "      <td>29.500000</td>\n",
              "      <td>0.0</td>\n",
              "      <td>1213.500000</td>\n",
              "      <td>0.004507</td>\n",
              "      <td>0</td>\n",
              "    </tr>\n",
              "  </tbody>\n",
              "</table>\n",
              "</div>"
            ],
            "text/plain": [
              "                     Temperature   Humidity  Light          CO2  \\\n",
              "date                                                              \n",
              "2015-02-18 00:00:00    20.889999  29.445000    0.0  1201.500000   \n",
              "2015-02-18 00:01:00    20.889999  29.500000    0.0  1201.500000   \n",
              "2015-02-18 00:02:00    20.889999  29.500000    0.0  1205.000000   \n",
              "2015-02-18 00:03:00    20.889999  29.463333    0.0  1212.666626   \n",
              "2015-02-18 00:04:00    20.889999  29.500000    0.0  1213.500000   \n",
              "\n",
              "                     HumidityRatio  Occupancy  \n",
              "date                                           \n",
              "2015-02-18 00:00:00       0.004498          0  \n",
              "2015-02-18 00:01:00       0.004507          0  \n",
              "2015-02-18 00:02:00       0.004507          0  \n",
              "2015-02-18 00:03:00       0.004501          0  \n",
              "2015-02-18 00:04:00       0.004507          0  "
            ]
          },
          "metadata": {
            "tags": []
          },
          "execution_count": 19
        }
      ]
    },
    {
      "cell_type": "markdown",
      "metadata": {
        "id": "lnZUtQcXu6bj",
        "colab_type": "text"
      },
      "source": [
        "See: https://examples.dask.org/dataframe.html"
      ]
    },
    {
      "cell_type": "markdown",
      "metadata": {
        "id": "6aXamtB76OCW",
        "colab_type": "text"
      },
      "source": [
        "## Working with time zones"
      ]
    },
    {
      "cell_type": "code",
      "metadata": {
        "id": "LgZLRwubYNlo",
        "colab_type": "code",
        "outputId": "1f2baec5-f129-4005-f987-c1032d22e88b",
        "colab": {
          "base_uri": "https://localhost:8080/",
          "height": 235
        }
      },
      "source": [
        "dti = pd.date_range('2018-01-01', periods=300, freq='H')\n",
        "dti.tz_localize('EET')"
      ],
      "execution_count": 0,
      "outputs": [
        {
          "output_type": "execute_result",
          "data": {
            "text/plain": [
              "DatetimeIndex(['2018-01-01 00:00:00+02:00', '2018-01-01 01:00:00+02:00',\n",
              "               '2018-01-01 02:00:00+02:00', '2018-01-01 03:00:00+02:00',\n",
              "               '2018-01-01 04:00:00+02:00', '2018-01-01 05:00:00+02:00',\n",
              "               '2018-01-01 06:00:00+02:00', '2018-01-01 07:00:00+02:00',\n",
              "               '2018-01-01 08:00:00+02:00', '2018-01-01 09:00:00+02:00',\n",
              "               ...\n",
              "               '2018-01-13 02:00:00+02:00', '2018-01-13 03:00:00+02:00',\n",
              "               '2018-01-13 04:00:00+02:00', '2018-01-13 05:00:00+02:00',\n",
              "               '2018-01-13 06:00:00+02:00', '2018-01-13 07:00:00+02:00',\n",
              "               '2018-01-13 08:00:00+02:00', '2018-01-13 09:00:00+02:00',\n",
              "               '2018-01-13 10:00:00+02:00', '2018-01-13 11:00:00+02:00'],\n",
              "              dtype='datetime64[ns, EET]', length=300, freq='H')"
            ]
          },
          "metadata": {
            "tags": []
          },
          "execution_count": 27
        }
      ]
    },
    {
      "cell_type": "code",
      "metadata": {
        "id": "WD4Cwy9cYQnL",
        "colab_type": "code",
        "outputId": "25eb86f8-b6a5-4efe-d665-d6b087a9d096",
        "colab": {
          "base_uri": "https://localhost:8080/",
          "height": 235
        }
      },
      "source": [
        "dti.tz_localize('EET').tz_convert('US/Pacific')"
      ],
      "execution_count": 0,
      "outputs": [
        {
          "output_type": "execute_result",
          "data": {
            "text/plain": [
              "DatetimeIndex(['2017-12-31 14:00:00-08:00', '2017-12-31 15:00:00-08:00',\n",
              "               '2017-12-31 16:00:00-08:00', '2017-12-31 17:00:00-08:00',\n",
              "               '2017-12-31 18:00:00-08:00', '2017-12-31 19:00:00-08:00',\n",
              "               '2017-12-31 20:00:00-08:00', '2017-12-31 21:00:00-08:00',\n",
              "               '2017-12-31 22:00:00-08:00', '2017-12-31 23:00:00-08:00',\n",
              "               ...\n",
              "               '2018-01-12 16:00:00-08:00', '2018-01-12 17:00:00-08:00',\n",
              "               '2018-01-12 18:00:00-08:00', '2018-01-12 19:00:00-08:00',\n",
              "               '2018-01-12 20:00:00-08:00', '2018-01-12 21:00:00-08:00',\n",
              "               '2018-01-12 22:00:00-08:00', '2018-01-12 23:00:00-08:00',\n",
              "               '2018-01-13 00:00:00-08:00', '2018-01-13 01:00:00-08:00'],\n",
              "              dtype='datetime64[ns, US/Pacific]', length=300, freq='H')"
            ]
          },
          "metadata": {
            "tags": []
          },
          "execution_count": 35
        }
      ]
    },
    {
      "cell_type": "code",
      "metadata": {
        "id": "zVPNeLwVYqxk",
        "colab_type": "code",
        "outputId": "72e7b1d1-b480-4bf2-fde6-18deafb6cda1",
        "colab": {
          "base_uri": "https://localhost:8080/",
          "height": 35
        }
      },
      "source": [
        "dti[0].day_name()"
      ],
      "execution_count": 0,
      "outputs": [
        {
          "output_type": "execute_result",
          "data": {
            "text/plain": [
              "'Monday'"
            ]
          },
          "metadata": {
            "tags": []
          },
          "execution_count": 37
        }
      ]
    },
    {
      "cell_type": "code",
      "metadata": {
        "id": "C5x5vyKGZlSI",
        "colab_type": "code",
        "outputId": "5a4b1e15-6a5d-48da-d864-6a3c11ab46cb",
        "colab": {
          "base_uri": "https://localhost:8080/",
          "height": 35
        }
      },
      "source": [
        "(dti[0] + pd.Timedelta('1 day')).day_name()"
      ],
      "execution_count": 0,
      "outputs": [
        {
          "output_type": "execute_result",
          "data": {
            "text/plain": [
              "'Tuesday'"
            ]
          },
          "metadata": {
            "tags": []
          },
          "execution_count": 38
        }
      ]
    },
    {
      "cell_type": "code",
      "metadata": {
        "id": "4ezqK1XGZyiV",
        "colab_type": "code",
        "outputId": "e8c1f948-3b73-4409-9ffc-efcd42482a08",
        "colab": {
          "base_uri": "https://localhost:8080/",
          "height": 35
        }
      },
      "source": [
        "(dti[0] - pd.offsets.BDay()).day_name()"
      ],
      "execution_count": 0,
      "outputs": [
        {
          "output_type": "execute_result",
          "data": {
            "text/plain": [
              "'Friday'"
            ]
          },
          "metadata": {
            "tags": []
          },
          "execution_count": 40
        }
      ]
    },
    {
      "cell_type": "markdown",
      "metadata": {
        "id": "MACqqHY-6ca9",
        "colab_type": "text"
      },
      "source": [
        "DateTime indices can be used to look up a range of dates "
      ]
    },
    {
      "cell_type": "code",
      "metadata": {
        "id": "yhbaglU8Z84b",
        "colab_type": "code",
        "outputId": "3d71f9ea-7275-4796-dbbf-1b393d278d85",
        "colab": {
          "base_uri": "https://localhost:8080/",
          "height": 180
        }
      },
      "source": [
        "ddf.loc['2015-02-02 14:25'].head() # partial match"
      ],
      "execution_count": 23,
      "outputs": [
        {
          "output_type": "stream",
          "text": [
            "/usr/local/lib/python3.6/dist-packages/dask/dataframe/core.py:4553: UserWarning: Insufficient elements for `head`. 5 elements requested, only 2 elements available. Try passing larger `npartitions` to `head`.\n",
            "  warnings.warn(msg.format(n, len(r)))\n"
          ],
          "name": "stderr"
        },
        {
          "output_type": "execute_result",
          "data": {
            "text/html": [
              "<div>\n",
              "<style scoped>\n",
              "    .dataframe tbody tr th:only-of-type {\n",
              "        vertical-align: middle;\n",
              "    }\n",
              "\n",
              "    .dataframe tbody tr th {\n",
              "        vertical-align: top;\n",
              "    }\n",
              "\n",
              "    .dataframe thead th {\n",
              "        text-align: right;\n",
              "    }\n",
              "</style>\n",
              "<table border=\"1\" class=\"dataframe\">\n",
              "  <thead>\n",
              "    <tr style=\"text-align: right;\">\n",
              "      <th></th>\n",
              "      <th>Temperature</th>\n",
              "      <th>Humidity</th>\n",
              "      <th>Light</th>\n",
              "      <th>CO2</th>\n",
              "      <th>HumidityRatio</th>\n",
              "      <th>Occupancy</th>\n",
              "    </tr>\n",
              "    <tr>\n",
              "      <th>date</th>\n",
              "      <th></th>\n",
              "      <th></th>\n",
              "      <th></th>\n",
              "      <th></th>\n",
              "      <th></th>\n",
              "      <th></th>\n",
              "    </tr>\n",
              "  </thead>\n",
              "  <tbody>\n",
              "    <tr>\n",
              "      <th>2015-02-02 14:25:00</th>\n",
              "      <td>23.730</td>\n",
              "      <td>26.290001</td>\n",
              "      <td>536.333313</td>\n",
              "      <td>798.0</td>\n",
              "      <td>0.004776</td>\n",
              "      <td>1</td>\n",
              "    </tr>\n",
              "    <tr>\n",
              "      <th>2015-02-02 14:25:59</th>\n",
              "      <td>23.754</td>\n",
              "      <td>26.290001</td>\n",
              "      <td>509.000000</td>\n",
              "      <td>797.0</td>\n",
              "      <td>0.004783</td>\n",
              "      <td>1</td>\n",
              "    </tr>\n",
              "  </tbody>\n",
              "</table>\n",
              "</div>"
            ],
            "text/plain": [
              "                     Temperature   Humidity       Light    CO2  HumidityRatio  \\\n",
              "date                                                                            \n",
              "2015-02-02 14:25:00       23.730  26.290001  536.333313  798.0       0.004776   \n",
              "2015-02-02 14:25:59       23.754  26.290001  509.000000  797.0       0.004783   \n",
              "\n",
              "                     Occupancy  \n",
              "date                            \n",
              "2015-02-02 14:25:00          1  \n",
              "2015-02-02 14:25:59          1  "
            ]
          },
          "metadata": {
            "tags": []
          },
          "execution_count": 23
        }
      ]
    },
    {
      "cell_type": "markdown",
      "metadata": {
        "id": "s_BJugAU9zsp",
        "colab_type": "text"
      },
      "source": [
        "Range indexing is also possible. All seconds of the given minute will be included.\n",
        "\n",
        "https://pandas.pydata.org/pandas-docs/stable/user_guide/timeseries.html#partial-string-indexing "
      ]
    },
    {
      "cell_type": "code",
      "metadata": {
        "id": "JTnT-fBD9YXx",
        "colab_type": "code",
        "colab": {
          "base_uri": "https://localhost:8080/",
          "height": 269
        },
        "outputId": "8f854995-7da4-4c3e-d84b-fbb9079b0965"
      },
      "source": [
        "pdf['2015-02-02 14:20':'2015-02-02 14:25']"
      ],
      "execution_count": 35,
      "outputs": [
        {
          "output_type": "execute_result",
          "data": {
            "text/html": [
              "<div>\n",
              "<style scoped>\n",
              "    .dataframe tbody tr th:only-of-type {\n",
              "        vertical-align: middle;\n",
              "    }\n",
              "\n",
              "    .dataframe tbody tr th {\n",
              "        vertical-align: top;\n",
              "    }\n",
              "\n",
              "    .dataframe thead th {\n",
              "        text-align: right;\n",
              "    }\n",
              "</style>\n",
              "<table border=\"1\" class=\"dataframe\">\n",
              "  <thead>\n",
              "    <tr style=\"text-align: right;\">\n",
              "      <th></th>\n",
              "      <th>Temperature</th>\n",
              "      <th>Humidity</th>\n",
              "      <th>Light</th>\n",
              "      <th>CO2</th>\n",
              "      <th>HumidityRatio</th>\n",
              "      <th>Occupancy</th>\n",
              "    </tr>\n",
              "    <tr>\n",
              "      <th>date</th>\n",
              "      <th></th>\n",
              "      <th></th>\n",
              "      <th></th>\n",
              "      <th></th>\n",
              "      <th></th>\n",
              "      <th></th>\n",
              "    </tr>\n",
              "  </thead>\n",
              "  <tbody>\n",
              "    <tr>\n",
              "      <th>2015-02-02 14:21:00</th>\n",
              "      <td>0.874576</td>\n",
              "      <td>0.416831</td>\n",
              "      <td>0.337409</td>\n",
              "      <td>0.214525</td>\n",
              "      <td>0.004765</td>\n",
              "      <td>0.5</td>\n",
              "    </tr>\n",
              "    <tr>\n",
              "      <th>2015-02-02 14:22:00</th>\n",
              "      <td>0.873190</td>\n",
              "      <td>0.412217</td>\n",
              "      <td>0.290912</td>\n",
              "      <td>0.217581</td>\n",
              "      <td>0.004744</td>\n",
              "      <td>0.5</td>\n",
              "    </tr>\n",
              "    <tr>\n",
              "      <th>2015-02-02 14:23:00</th>\n",
              "      <td>0.879014</td>\n",
              "      <td>0.415513</td>\n",
              "      <td>0.287877</td>\n",
              "      <td>0.220135</td>\n",
              "      <td>0.004767</td>\n",
              "      <td>0.5</td>\n",
              "    </tr>\n",
              "    <tr>\n",
              "      <th>2015-02-02 14:23:59</th>\n",
              "      <td>0.880123</td>\n",
              "      <td>0.418150</td>\n",
              "      <td>0.335052</td>\n",
              "      <td>0.226747</td>\n",
              "      <td>0.004779</td>\n",
              "      <td>0.5</td>\n",
              "    </tr>\n",
              "    <tr>\n",
              "      <th>2015-02-02 14:25:00</th>\n",
              "      <td>0.874576</td>\n",
              "      <td>0.419468</td>\n",
              "      <td>0.316001</td>\n",
              "      <td>0.231555</td>\n",
              "      <td>0.004776</td>\n",
              "      <td>0.5</td>\n",
              "    </tr>\n",
              "    <tr>\n",
              "      <th>2015-02-02 14:25:59</th>\n",
              "      <td>0.879014</td>\n",
              "      <td>0.419468</td>\n",
              "      <td>0.299897</td>\n",
              "      <td>0.230954</td>\n",
              "      <td>0.004783</td>\n",
              "      <td>0.5</td>\n",
              "    </tr>\n",
              "  </tbody>\n",
              "</table>\n",
              "</div>"
            ],
            "text/plain": [
              "                     Temperature  Humidity     Light       CO2  HumidityRatio  \\\n",
              "date                                                                            \n",
              "2015-02-02 14:21:00     0.874576  0.416831  0.337409  0.214525       0.004765   \n",
              "2015-02-02 14:22:00     0.873190  0.412217  0.290912  0.217581       0.004744   \n",
              "2015-02-02 14:23:00     0.879014  0.415513  0.287877  0.220135       0.004767   \n",
              "2015-02-02 14:23:59     0.880123  0.418150  0.335052  0.226747       0.004779   \n",
              "2015-02-02 14:25:00     0.874576  0.419468  0.316001  0.231555       0.004776   \n",
              "2015-02-02 14:25:59     0.879014  0.419468  0.299897  0.230954       0.004783   \n",
              "\n",
              "                     Occupancy  \n",
              "date                            \n",
              "2015-02-02 14:21:00        0.5  \n",
              "2015-02-02 14:22:00        0.5  \n",
              "2015-02-02 14:23:00        0.5  \n",
              "2015-02-02 14:23:59        0.5  \n",
              "2015-02-02 14:25:00        0.5  \n",
              "2015-02-02 14:25:59        0.5  "
            ]
          },
          "metadata": {
            "tags": []
          },
          "execution_count": 35
        }
      ]
    },
    {
      "cell_type": "markdown",
      "metadata": {
        "id": "Z8FQjhe_-GVX",
        "colab_type": "text"
      },
      "source": [
        "Same can be achieved with custom indexing\n",
        "https://pandas.pydata.org/pandas-docs/stable/user_guide/indexing.html"
      ]
    },
    {
      "cell_type": "code",
      "metadata": {
        "id": "VE_j6o5mbVWs",
        "colab_type": "code",
        "outputId": "f9edff89-a36e-4915-f9aa-3f16cec28ead",
        "colab": {
          "base_uri": "https://localhost:8080/",
          "height": 269
        }
      },
      "source": [
        "pdf[(pdf.index >= '2015-02-02 14:20') & (pdf.index <= '2015-02-02 14:25:59') ]"
      ],
      "execution_count": 39,
      "outputs": [
        {
          "output_type": "execute_result",
          "data": {
            "text/html": [
              "<div>\n",
              "<style scoped>\n",
              "    .dataframe tbody tr th:only-of-type {\n",
              "        vertical-align: middle;\n",
              "    }\n",
              "\n",
              "    .dataframe tbody tr th {\n",
              "        vertical-align: top;\n",
              "    }\n",
              "\n",
              "    .dataframe thead th {\n",
              "        text-align: right;\n",
              "    }\n",
              "</style>\n",
              "<table border=\"1\" class=\"dataframe\">\n",
              "  <thead>\n",
              "    <tr style=\"text-align: right;\">\n",
              "      <th></th>\n",
              "      <th>Temperature</th>\n",
              "      <th>Humidity</th>\n",
              "      <th>Light</th>\n",
              "      <th>CO2</th>\n",
              "      <th>HumidityRatio</th>\n",
              "      <th>Occupancy</th>\n",
              "    </tr>\n",
              "    <tr>\n",
              "      <th>date</th>\n",
              "      <th></th>\n",
              "      <th></th>\n",
              "      <th></th>\n",
              "      <th></th>\n",
              "      <th></th>\n",
              "      <th></th>\n",
              "    </tr>\n",
              "  </thead>\n",
              "  <tbody>\n",
              "    <tr>\n",
              "      <th>2015-02-02 14:21:00</th>\n",
              "      <td>0.874576</td>\n",
              "      <td>0.416831</td>\n",
              "      <td>0.337409</td>\n",
              "      <td>0.214525</td>\n",
              "      <td>0.004765</td>\n",
              "      <td>0.5</td>\n",
              "    </tr>\n",
              "    <tr>\n",
              "      <th>2015-02-02 14:22:00</th>\n",
              "      <td>0.873190</td>\n",
              "      <td>0.412217</td>\n",
              "      <td>0.290912</td>\n",
              "      <td>0.217581</td>\n",
              "      <td>0.004744</td>\n",
              "      <td>0.5</td>\n",
              "    </tr>\n",
              "    <tr>\n",
              "      <th>2015-02-02 14:23:00</th>\n",
              "      <td>0.879014</td>\n",
              "      <td>0.415513</td>\n",
              "      <td>0.287877</td>\n",
              "      <td>0.220135</td>\n",
              "      <td>0.004767</td>\n",
              "      <td>0.5</td>\n",
              "    </tr>\n",
              "    <tr>\n",
              "      <th>2015-02-02 14:23:59</th>\n",
              "      <td>0.880123</td>\n",
              "      <td>0.418150</td>\n",
              "      <td>0.335052</td>\n",
              "      <td>0.226747</td>\n",
              "      <td>0.004779</td>\n",
              "      <td>0.5</td>\n",
              "    </tr>\n",
              "    <tr>\n",
              "      <th>2015-02-02 14:25:00</th>\n",
              "      <td>0.874576</td>\n",
              "      <td>0.419468</td>\n",
              "      <td>0.316001</td>\n",
              "      <td>0.231555</td>\n",
              "      <td>0.004776</td>\n",
              "      <td>0.5</td>\n",
              "    </tr>\n",
              "    <tr>\n",
              "      <th>2015-02-02 14:25:59</th>\n",
              "      <td>0.879014</td>\n",
              "      <td>0.419468</td>\n",
              "      <td>0.299897</td>\n",
              "      <td>0.230954</td>\n",
              "      <td>0.004783</td>\n",
              "      <td>0.5</td>\n",
              "    </tr>\n",
              "  </tbody>\n",
              "</table>\n",
              "</div>"
            ],
            "text/plain": [
              "                     Temperature  Humidity     Light       CO2  HumidityRatio  \\\n",
              "date                                                                            \n",
              "2015-02-02 14:21:00     0.874576  0.416831  0.337409  0.214525       0.004765   \n",
              "2015-02-02 14:22:00     0.873190  0.412217  0.290912  0.217581       0.004744   \n",
              "2015-02-02 14:23:00     0.879014  0.415513  0.287877  0.220135       0.004767   \n",
              "2015-02-02 14:23:59     0.880123  0.418150  0.335052  0.226747       0.004779   \n",
              "2015-02-02 14:25:00     0.874576  0.419468  0.316001  0.231555       0.004776   \n",
              "2015-02-02 14:25:59     0.879014  0.419468  0.299897  0.230954       0.004783   \n",
              "\n",
              "                     Occupancy  \n",
              "date                            \n",
              "2015-02-02 14:21:00        0.5  \n",
              "2015-02-02 14:22:00        0.5  \n",
              "2015-02-02 14:23:00        0.5  \n",
              "2015-02-02 14:23:59        0.5  \n",
              "2015-02-02 14:25:00        0.5  \n",
              "2015-02-02 14:25:59        0.5  "
            ]
          },
          "metadata": {
            "tags": []
          },
          "execution_count": 39
        }
      ]
    },
    {
      "cell_type": "code",
      "metadata": {
        "id": "0NQi1Y_ShoDf",
        "colab_type": "code",
        "outputId": "d9fc9ff3-b637-440c-e0e8-4441c9b03785",
        "colab": {
          "base_uri": "https://localhost:8080/",
          "height": 2023
        }
      },
      "source": [
        "pdf[pdf.index.weekday.map(lambda x: x in [0,2])] # Mon and Wed only"
      ],
      "execution_count": 32,
      "outputs": [
        {
          "output_type": "execute_result",
          "data": {
            "text/html": [
              "<div>\n",
              "<style scoped>\n",
              "    .dataframe tbody tr th:only-of-type {\n",
              "        vertical-align: middle;\n",
              "    }\n",
              "\n",
              "    .dataframe tbody tr th {\n",
              "        vertical-align: top;\n",
              "    }\n",
              "\n",
              "    .dataframe thead th {\n",
              "        text-align: right;\n",
              "    }\n",
              "</style>\n",
              "<table border=\"1\" class=\"dataframe\">\n",
              "  <thead>\n",
              "    <tr style=\"text-align: right;\">\n",
              "      <th></th>\n",
              "      <th>Temperature</th>\n",
              "      <th>Humidity</th>\n",
              "      <th>Light</th>\n",
              "      <th>CO2</th>\n",
              "      <th>HumidityRatio</th>\n",
              "      <th>Occupancy</th>\n",
              "    </tr>\n",
              "    <tr>\n",
              "      <th>date</th>\n",
              "      <th></th>\n",
              "      <th></th>\n",
              "      <th></th>\n",
              "      <th></th>\n",
              "      <th></th>\n",
              "      <th></th>\n",
              "    </tr>\n",
              "  </thead>\n",
              "  <tbody>\n",
              "    <tr>\n",
              "      <th>2015-02-02 14:19:00</th>\n",
              "      <td>0.869029</td>\n",
              "      <td>0.418677</td>\n",
              "      <td>0.344793</td>\n",
              "      <td>0.202224</td>\n",
              "      <td>0.004764</td>\n",
              "      <td>0.5</td>\n",
              "    </tr>\n",
              "    <tr>\n",
              "      <th>2015-02-02 14:19:59</th>\n",
              "      <td>0.872358</td>\n",
              "      <td>0.419468</td>\n",
              "      <td>0.340787</td>\n",
              "      <td>0.208956</td>\n",
              "      <td>0.004773</td>\n",
              "      <td>0.5</td>\n",
              "    </tr>\n",
              "    <tr>\n",
              "      <th>2015-02-02 14:21:00</th>\n",
              "      <td>0.874576</td>\n",
              "      <td>0.416831</td>\n",
              "      <td>0.337409</td>\n",
              "      <td>0.214525</td>\n",
              "      <td>0.004765</td>\n",
              "      <td>0.5</td>\n",
              "    </tr>\n",
              "    <tr>\n",
              "      <th>2015-02-02 14:22:00</th>\n",
              "      <td>0.873190</td>\n",
              "      <td>0.412217</td>\n",
              "      <td>0.290912</td>\n",
              "      <td>0.217581</td>\n",
              "      <td>0.004744</td>\n",
              "      <td>0.5</td>\n",
              "    </tr>\n",
              "    <tr>\n",
              "      <th>2015-02-02 14:23:00</th>\n",
              "      <td>0.879014</td>\n",
              "      <td>0.415513</td>\n",
              "      <td>0.287877</td>\n",
              "      <td>0.220135</td>\n",
              "      <td>0.004767</td>\n",
              "      <td>0.5</td>\n",
              "    </tr>\n",
              "    <tr>\n",
              "      <th>2015-02-02 14:23:59</th>\n",
              "      <td>0.880123</td>\n",
              "      <td>0.418150</td>\n",
              "      <td>0.335052</td>\n",
              "      <td>0.226747</td>\n",
              "      <td>0.004779</td>\n",
              "      <td>0.5</td>\n",
              "    </tr>\n",
              "    <tr>\n",
              "      <th>2015-02-02 14:25:00</th>\n",
              "      <td>0.874576</td>\n",
              "      <td>0.419468</td>\n",
              "      <td>0.316001</td>\n",
              "      <td>0.231555</td>\n",
              "      <td>0.004776</td>\n",
              "      <td>0.5</td>\n",
              "    </tr>\n",
              "    <tr>\n",
              "      <th>2015-02-02 14:25:59</th>\n",
              "      <td>0.879014</td>\n",
              "      <td>0.419468</td>\n",
              "      <td>0.299897</td>\n",
              "      <td>0.230954</td>\n",
              "      <td>0.004783</td>\n",
              "      <td>0.5</td>\n",
              "    </tr>\n",
              "    <tr>\n",
              "      <th>2015-02-02 14:26:59</th>\n",
              "      <td>0.879014</td>\n",
              "      <td>0.422105</td>\n",
              "      <td>0.280454</td>\n",
              "      <td>0.234681</td>\n",
              "      <td>0.004794</td>\n",
              "      <td>0.5</td>\n",
              "    </tr>\n",
              "    <tr>\n",
              "      <th>2015-02-02 14:28:00</th>\n",
              "      <td>0.875686</td>\n",
              "      <td>0.423863</td>\n",
              "      <td>0.300486</td>\n",
              "      <td>0.238167</td>\n",
              "      <td>0.004796</td>\n",
              "      <td>0.5</td>\n",
              "    </tr>\n",
              "    <tr>\n",
              "      <th>2015-02-02 14:29:00</th>\n",
              "      <td>0.877350</td>\n",
              "      <td>0.426280</td>\n",
              "      <td>0.283694</td>\n",
              "      <td>0.241923</td>\n",
              "      <td>0.004809</td>\n",
              "      <td>0.5</td>\n",
              "    </tr>\n",
              "    <tr>\n",
              "      <th>2015-02-02 14:30:00</th>\n",
              "      <td>0.869029</td>\n",
              "      <td>0.431334</td>\n",
              "      <td>0.283871</td>\n",
              "      <td>0.247183</td>\n",
              "      <td>0.004817</td>\n",
              "      <td>0.5</td>\n",
              "    </tr>\n",
              "    <tr>\n",
              "      <th>2015-02-02 14:31:00</th>\n",
              "      <td>0.869029</td>\n",
              "      <td>0.433092</td>\n",
              "      <td>0.280012</td>\n",
              "      <td>0.251991</td>\n",
              "      <td>0.004824</td>\n",
              "      <td>0.5</td>\n",
              "    </tr>\n",
              "    <tr>\n",
              "      <th>2015-02-02 14:31:59</th>\n",
              "      <td>0.869029</td>\n",
              "      <td>0.437486</td>\n",
              "      <td>0.276329</td>\n",
              "      <td>0.260005</td>\n",
              "      <td>0.004842</td>\n",
              "      <td>0.5</td>\n",
              "    </tr>\n",
              "    <tr>\n",
              "      <th>2015-02-02 14:32:59</th>\n",
              "      <td>0.869029</td>\n",
              "      <td>0.440738</td>\n",
              "      <td>0.273383</td>\n",
              "      <td>0.264252</td>\n",
              "      <td>0.004856</td>\n",
              "      <td>0.5</td>\n",
              "    </tr>\n",
              "    <tr>\n",
              "      <th>2015-02-02 14:34:00</th>\n",
              "      <td>0.869029</td>\n",
              "      <td>0.445836</td>\n",
              "      <td>0.273383</td>\n",
              "      <td>0.269421</td>\n",
              "      <td>0.004877</td>\n",
              "      <td>0.5</td>\n",
              "    </tr>\n",
              "    <tr>\n",
              "      <th>2015-02-02 14:35:00</th>\n",
              "      <td>0.869029</td>\n",
              "      <td>0.449462</td>\n",
              "      <td>0.268081</td>\n",
              "      <td>0.280841</td>\n",
              "      <td>0.004892</td>\n",
              "      <td>0.5</td>\n",
              "    </tr>\n",
              "    <tr>\n",
              "      <th>2015-02-02 14:36:00</th>\n",
              "      <td>0.850539</td>\n",
              "      <td>0.445836</td>\n",
              "      <td>0.267492</td>\n",
              "      <td>0.287453</td>\n",
              "      <td>0.004848</td>\n",
              "      <td>0.5</td>\n",
              "    </tr>\n",
              "    <tr>\n",
              "      <th>2015-02-02 14:37:00</th>\n",
              "      <td>0.857935</td>\n",
              "      <td>0.449615</td>\n",
              "      <td>0.269848</td>\n",
              "      <td>0.291420</td>\n",
              "      <td>0.004875</td>\n",
              "      <td>0.5</td>\n",
              "    </tr>\n",
              "    <tr>\n",
              "      <th>2015-02-02 14:38:00</th>\n",
              "      <td>0.859784</td>\n",
              "      <td>0.452867</td>\n",
              "      <td>0.273383</td>\n",
              "      <td>0.293163</td>\n",
              "      <td>0.004891</td>\n",
              "      <td>0.5</td>\n",
              "    </tr>\n",
              "    <tr>\n",
              "      <th>2015-02-02 14:38:59</th>\n",
              "      <td>0.857935</td>\n",
              "      <td>0.455065</td>\n",
              "      <td>0.278686</td>\n",
              "      <td>0.298152</td>\n",
              "      <td>0.004898</td>\n",
              "      <td>0.5</td>\n",
              "    </tr>\n",
              "    <tr>\n",
              "      <th>2015-02-02 14:39:59</th>\n",
              "      <td>0.850539</td>\n",
              "      <td>0.457702</td>\n",
              "      <td>0.273383</td>\n",
              "      <td>0.303681</td>\n",
              "      <td>0.004897</td>\n",
              "      <td>0.5</td>\n",
              "    </tr>\n",
              "    <tr>\n",
              "      <th>2015-02-02 14:41:00</th>\n",
              "      <td>0.850539</td>\n",
              "      <td>0.461042</td>\n",
              "      <td>0.293651</td>\n",
              "      <td>0.308009</td>\n",
              "      <td>0.004910</td>\n",
              "      <td>0.5</td>\n",
              "    </tr>\n",
              "    <tr>\n",
              "      <th>2015-02-02 14:42:00</th>\n",
              "      <td>0.850539</td>\n",
              "      <td>0.463415</td>\n",
              "      <td>0.312388</td>\n",
              "      <td>0.310533</td>\n",
              "      <td>0.004920</td>\n",
              "      <td>0.5</td>\n",
              "    </tr>\n",
              "    <tr>\n",
              "      <th>2015-02-02 14:43:00</th>\n",
              "      <td>0.850539</td>\n",
              "      <td>0.465172</td>\n",
              "      <td>0.314391</td>\n",
              "      <td>0.314741</td>\n",
              "      <td>0.004928</td>\n",
              "      <td>0.5</td>\n",
              "    </tr>\n",
              "    <tr>\n",
              "      <th>2015-02-02 14:44:00</th>\n",
              "      <td>0.850539</td>\n",
              "      <td>0.465612</td>\n",
              "      <td>0.308882</td>\n",
              "      <td>0.322915</td>\n",
              "      <td>0.004929</td>\n",
              "      <td>0.5</td>\n",
              "    </tr>\n",
              "    <tr>\n",
              "      <th>2015-02-02 14:44:59</th>\n",
              "      <td>0.855162</td>\n",
              "      <td>0.467919</td>\n",
              "      <td>0.293809</td>\n",
              "      <td>0.329527</td>\n",
              "      <td>0.004946</td>\n",
              "      <td>0.5</td>\n",
              "    </tr>\n",
              "    <tr>\n",
              "      <th>2015-02-02 14:45:59</th>\n",
              "      <td>0.850539</td>\n",
              "      <td>0.467809</td>\n",
              "      <td>0.304218</td>\n",
              "      <td>0.330729</td>\n",
              "      <td>0.004938</td>\n",
              "      <td>0.5</td>\n",
              "    </tr>\n",
              "    <tr>\n",
              "      <th>2015-02-02 14:47:00</th>\n",
              "      <td>0.850539</td>\n",
              "      <td>0.468776</td>\n",
              "      <td>0.295301</td>\n",
              "      <td>0.328084</td>\n",
              "      <td>0.004942</td>\n",
              "      <td>0.5</td>\n",
              "    </tr>\n",
              "    <tr>\n",
              "      <th>2015-02-02 14:48:00</th>\n",
              "      <td>0.850539</td>\n",
              "      <td>0.472643</td>\n",
              "      <td>0.307556</td>\n",
              "      <td>0.332131</td>\n",
              "      <td>0.004958</td>\n",
              "      <td>0.5</td>\n",
              "    </tr>\n",
              "    <tr>\n",
              "      <th>...</th>\n",
              "      <td>...</td>\n",
              "      <td>...</td>\n",
              "      <td>...</td>\n",
              "      <td>...</td>\n",
              "      <td>...</td>\n",
              "      <td>...</td>\n",
              "    </tr>\n",
              "    <tr>\n",
              "      <th>2015-02-18 08:50:00</th>\n",
              "      <td>0.330971</td>\n",
              "      <td>0.445836</td>\n",
              "      <td>0.004124</td>\n",
              "      <td>0.636905</td>\n",
              "      <td>0.004080</td>\n",
              "      <td>0.0</td>\n",
              "    </tr>\n",
              "    <tr>\n",
              "      <th>2015-02-18 08:51:00</th>\n",
              "      <td>0.337134</td>\n",
              "      <td>0.447447</td>\n",
              "      <td>0.005499</td>\n",
              "      <td>0.642875</td>\n",
              "      <td>0.004094</td>\n",
              "      <td>0.0</td>\n",
              "    </tr>\n",
              "    <tr>\n",
              "      <th>2015-02-18 08:51:59</th>\n",
              "      <td>0.349461</td>\n",
              "      <td>0.450670</td>\n",
              "      <td>0.002750</td>\n",
              "      <td>0.648685</td>\n",
              "      <td>0.004122</td>\n",
              "      <td>0.0</td>\n",
              "    </tr>\n",
              "    <tr>\n",
              "      <th>2015-02-18 08:53:00</th>\n",
              "      <td>0.344838</td>\n",
              "      <td>0.448253</td>\n",
              "      <td>0.004124</td>\n",
              "      <td>0.634861</td>\n",
              "      <td>0.004107</td>\n",
              "      <td>0.0</td>\n",
              "    </tr>\n",
              "    <tr>\n",
              "      <th>2015-02-18 08:54:00</th>\n",
              "      <td>0.340216</td>\n",
              "      <td>0.446056</td>\n",
              "      <td>0.004124</td>\n",
              "      <td>0.631555</td>\n",
              "      <td>0.004093</td>\n",
              "      <td>0.0</td>\n",
              "    </tr>\n",
              "    <tr>\n",
              "      <th>2015-02-18 08:55:00</th>\n",
              "      <td>0.335593</td>\n",
              "      <td>0.442540</td>\n",
              "      <td>0.004124</td>\n",
              "      <td>0.636514</td>\n",
              "      <td>0.004075</td>\n",
              "      <td>0.0</td>\n",
              "    </tr>\n",
              "    <tr>\n",
              "      <th>2015-02-18 08:55:59</th>\n",
              "      <td>0.344838</td>\n",
              "      <td>0.444737</td>\n",
              "      <td>0.004124</td>\n",
              "      <td>0.653644</td>\n",
              "      <td>0.004095</td>\n",
              "      <td>0.0</td>\n",
              "    </tr>\n",
              "    <tr>\n",
              "      <th>2015-02-18 08:57:00</th>\n",
              "      <td>0.337134</td>\n",
              "      <td>0.445983</td>\n",
              "      <td>0.005499</td>\n",
              "      <td>0.661908</td>\n",
              "      <td>0.004089</td>\n",
              "      <td>0.0</td>\n",
              "    </tr>\n",
              "    <tr>\n",
              "      <th>2015-02-18 08:57:59</th>\n",
              "      <td>0.335593</td>\n",
              "      <td>0.445946</td>\n",
              "      <td>0.007954</td>\n",
              "      <td>0.653043</td>\n",
              "      <td>0.004087</td>\n",
              "      <td>0.0</td>\n",
              "    </tr>\n",
              "    <tr>\n",
              "      <th>2015-02-18 08:58:59</th>\n",
              "      <td>0.343297</td>\n",
              "      <td>0.445836</td>\n",
              "      <td>0.012177</td>\n",
              "      <td>0.644879</td>\n",
              "      <td>0.004097</td>\n",
              "      <td>0.0</td>\n",
              "    </tr>\n",
              "    <tr>\n",
              "      <th>2015-02-18 09:00:00</th>\n",
              "      <td>0.344838</td>\n",
              "      <td>0.444737</td>\n",
              "      <td>0.010016</td>\n",
              "      <td>0.639219</td>\n",
              "      <td>0.004095</td>\n",
              "      <td>0.0</td>\n",
              "    </tr>\n",
              "    <tr>\n",
              "      <th>2015-02-18 09:01:00</th>\n",
              "      <td>0.344838</td>\n",
              "      <td>0.444737</td>\n",
              "      <td>0.007070</td>\n",
              "      <td>0.630954</td>\n",
              "      <td>0.004095</td>\n",
              "      <td>0.0</td>\n",
              "    </tr>\n",
              "    <tr>\n",
              "      <th>2015-02-18 09:02:00</th>\n",
              "      <td>0.340216</td>\n",
              "      <td>0.443639</td>\n",
              "      <td>0.004124</td>\n",
              "      <td>0.624944</td>\n",
              "      <td>0.004085</td>\n",
              "      <td>0.0</td>\n",
              "    </tr>\n",
              "    <tr>\n",
              "      <th>2015-02-18 09:03:00</th>\n",
              "      <td>0.335593</td>\n",
              "      <td>0.442540</td>\n",
              "      <td>0.004124</td>\n",
              "      <td>0.622239</td>\n",
              "      <td>0.004075</td>\n",
              "      <td>0.0</td>\n",
              "    </tr>\n",
              "    <tr>\n",
              "      <th>2015-02-18 09:04:00</th>\n",
              "      <td>0.337134</td>\n",
              "      <td>0.442906</td>\n",
              "      <td>0.007856</td>\n",
              "      <td>0.622640</td>\n",
              "      <td>0.004078</td>\n",
              "      <td>0.0</td>\n",
              "    </tr>\n",
              "    <tr>\n",
              "      <th>2015-02-18 09:04:59</th>\n",
              "      <td>0.335593</td>\n",
              "      <td>0.442540</td>\n",
              "      <td>0.006776</td>\n",
              "      <td>0.619384</td>\n",
              "      <td>0.004075</td>\n",
              "      <td>0.0</td>\n",
              "    </tr>\n",
              "    <tr>\n",
              "      <th>2015-02-18 09:06:00</th>\n",
              "      <td>0.330971</td>\n",
              "      <td>0.441441</td>\n",
              "      <td>0.005892</td>\n",
              "      <td>0.623742</td>\n",
              "      <td>0.004065</td>\n",
              "      <td>0.0</td>\n",
              "    </tr>\n",
              "    <tr>\n",
              "      <th>2015-02-18 09:07:00</th>\n",
              "      <td>0.340216</td>\n",
              "      <td>0.443639</td>\n",
              "      <td>0.007070</td>\n",
              "      <td>0.621337</td>\n",
              "      <td>0.004085</td>\n",
              "      <td>0.0</td>\n",
              "    </tr>\n",
              "    <tr>\n",
              "      <th>2015-02-18 09:08:00</th>\n",
              "      <td>0.330971</td>\n",
              "      <td>0.441441</td>\n",
              "      <td>0.008249</td>\n",
              "      <td>0.620235</td>\n",
              "      <td>0.004065</td>\n",
              "      <td>0.0</td>\n",
              "    </tr>\n",
              "    <tr>\n",
              "      <th>2015-02-18 09:08:59</th>\n",
              "      <td>0.330971</td>\n",
              "      <td>0.440453</td>\n",
              "      <td>0.005892</td>\n",
              "      <td>0.626446</td>\n",
              "      <td>0.004061</td>\n",
              "      <td>0.0</td>\n",
              "    </tr>\n",
              "    <tr>\n",
              "      <th>2015-02-18 09:10:00</th>\n",
              "      <td>0.330971</td>\n",
              "      <td>0.439464</td>\n",
              "      <td>0.029901</td>\n",
              "      <td>0.631705</td>\n",
              "      <td>0.004058</td>\n",
              "      <td>0.0</td>\n",
              "    </tr>\n",
              "    <tr>\n",
              "      <th>2015-02-18 09:10:59</th>\n",
              "      <td>0.330971</td>\n",
              "      <td>0.456054</td>\n",
              "      <td>0.174400</td>\n",
              "      <td>0.633659</td>\n",
              "      <td>0.004116</td>\n",
              "      <td>0.5</td>\n",
              "    </tr>\n",
              "    <tr>\n",
              "      <th>2015-02-18 09:11:59</th>\n",
              "      <td>0.330971</td>\n",
              "      <td>0.451989</td>\n",
              "      <td>0.246870</td>\n",
              "      <td>0.646281</td>\n",
              "      <td>0.004101</td>\n",
              "      <td>0.5</td>\n",
              "    </tr>\n",
              "    <tr>\n",
              "      <th>2015-02-18 09:13:00</th>\n",
              "      <td>0.330971</td>\n",
              "      <td>0.463708</td>\n",
              "      <td>0.252762</td>\n",
              "      <td>0.645079</td>\n",
              "      <td>0.004142</td>\n",
              "      <td>0.5</td>\n",
              "    </tr>\n",
              "    <tr>\n",
              "      <th>2015-02-18 09:14:00</th>\n",
              "      <td>0.335593</td>\n",
              "      <td>0.469018</td>\n",
              "      <td>0.253793</td>\n",
              "      <td>0.660556</td>\n",
              "      <td>0.004167</td>\n",
              "      <td>0.5</td>\n",
              "    </tr>\n",
              "    <tr>\n",
              "      <th>2015-02-18 09:15:00</th>\n",
              "      <td>0.335593</td>\n",
              "      <td>0.482202</td>\n",
              "      <td>0.253204</td>\n",
              "      <td>0.656649</td>\n",
              "      <td>0.004213</td>\n",
              "      <td>0.5</td>\n",
              "    </tr>\n",
              "    <tr>\n",
              "      <th>2015-02-18 09:16:00</th>\n",
              "      <td>0.344838</td>\n",
              "      <td>0.483410</td>\n",
              "      <td>0.249521</td>\n",
              "      <td>0.662209</td>\n",
              "      <td>0.004230</td>\n",
              "      <td>0.5</td>\n",
              "    </tr>\n",
              "    <tr>\n",
              "      <th>2015-02-18 09:16:59</th>\n",
              "      <td>0.349461</td>\n",
              "      <td>0.483410</td>\n",
              "      <td>0.249521</td>\n",
              "      <td>0.666416</td>\n",
              "      <td>0.004237</td>\n",
              "      <td>0.5</td>\n",
              "    </tr>\n",
              "    <tr>\n",
              "      <th>2015-02-18 09:17:59</th>\n",
              "      <td>0.349461</td>\n",
              "      <td>0.495605</td>\n",
              "      <td>0.246723</td>\n",
              "      <td>0.732832</td>\n",
              "      <td>0.004279</td>\n",
              "      <td>0.5</td>\n",
              "    </tr>\n",
              "    <tr>\n",
              "      <th>2015-02-18 09:19:00</th>\n",
              "      <td>0.369800</td>\n",
              "      <td>0.499011</td>\n",
              "      <td>0.240978</td>\n",
              "      <td>0.872276</td>\n",
              "      <td>0.004321</td>\n",
              "      <td>0.5</td>\n",
              "    </tr>\n",
              "  </tbody>\n",
              "</table>\n",
              "<p>5586 rows × 6 columns</p>\n",
              "</div>"
            ],
            "text/plain": [
              "                     Temperature  Humidity     Light       CO2  HumidityRatio  \\\n",
              "date                                                                            \n",
              "2015-02-02 14:19:00     0.869029  0.418677  0.344793  0.202224       0.004764   \n",
              "2015-02-02 14:19:59     0.872358  0.419468  0.340787  0.208956       0.004773   \n",
              "2015-02-02 14:21:00     0.874576  0.416831  0.337409  0.214525       0.004765   \n",
              "2015-02-02 14:22:00     0.873190  0.412217  0.290912  0.217581       0.004744   \n",
              "2015-02-02 14:23:00     0.879014  0.415513  0.287877  0.220135       0.004767   \n",
              "2015-02-02 14:23:59     0.880123  0.418150  0.335052  0.226747       0.004779   \n",
              "2015-02-02 14:25:00     0.874576  0.419468  0.316001  0.231555       0.004776   \n",
              "2015-02-02 14:25:59     0.879014  0.419468  0.299897  0.230954       0.004783   \n",
              "2015-02-02 14:26:59     0.879014  0.422105  0.280454  0.234681       0.004794   \n",
              "2015-02-02 14:28:00     0.875686  0.423863  0.300486  0.238167       0.004796   \n",
              "2015-02-02 14:29:00     0.877350  0.426280  0.283694  0.241923       0.004809   \n",
              "2015-02-02 14:30:00     0.869029  0.431334  0.283871  0.247183       0.004817   \n",
              "2015-02-02 14:31:00     0.869029  0.433092  0.280012  0.251991       0.004824   \n",
              "2015-02-02 14:31:59     0.869029  0.437486  0.276329  0.260005       0.004842   \n",
              "2015-02-02 14:32:59     0.869029  0.440738  0.273383  0.264252       0.004856   \n",
              "2015-02-02 14:34:00     0.869029  0.445836  0.273383  0.269421       0.004877   \n",
              "2015-02-02 14:35:00     0.869029  0.449462  0.268081  0.280841       0.004892   \n",
              "2015-02-02 14:36:00     0.850539  0.445836  0.267492  0.287453       0.004848   \n",
              "2015-02-02 14:37:00     0.857935  0.449615  0.269848  0.291420       0.004875   \n",
              "2015-02-02 14:38:00     0.859784  0.452867  0.273383  0.293163       0.004891   \n",
              "2015-02-02 14:38:59     0.857935  0.455065  0.278686  0.298152       0.004898   \n",
              "2015-02-02 14:39:59     0.850539  0.457702  0.273383  0.303681       0.004897   \n",
              "2015-02-02 14:41:00     0.850539  0.461042  0.293651  0.308009       0.004910   \n",
              "2015-02-02 14:42:00     0.850539  0.463415  0.312388  0.310533       0.004920   \n",
              "2015-02-02 14:43:00     0.850539  0.465172  0.314391  0.314741       0.004928   \n",
              "2015-02-02 14:44:00     0.850539  0.465612  0.308882  0.322915       0.004929   \n",
              "2015-02-02 14:44:59     0.855162  0.467919  0.293809  0.329527       0.004946   \n",
              "2015-02-02 14:45:59     0.850539  0.467809  0.304218  0.330729       0.004938   \n",
              "2015-02-02 14:47:00     0.850539  0.468776  0.295301  0.328084       0.004942   \n",
              "2015-02-02 14:48:00     0.850539  0.472643  0.307556  0.332131       0.004958   \n",
              "...                          ...       ...       ...       ...            ...   \n",
              "2015-02-18 08:50:00     0.330971  0.445836  0.004124  0.636905       0.004080   \n",
              "2015-02-18 08:51:00     0.337134  0.447447  0.005499  0.642875       0.004094   \n",
              "2015-02-18 08:51:59     0.349461  0.450670  0.002750  0.648685       0.004122   \n",
              "2015-02-18 08:53:00     0.344838  0.448253  0.004124  0.634861       0.004107   \n",
              "2015-02-18 08:54:00     0.340216  0.446056  0.004124  0.631555       0.004093   \n",
              "2015-02-18 08:55:00     0.335593  0.442540  0.004124  0.636514       0.004075   \n",
              "2015-02-18 08:55:59     0.344838  0.444737  0.004124  0.653644       0.004095   \n",
              "2015-02-18 08:57:00     0.337134  0.445983  0.005499  0.661908       0.004089   \n",
              "2015-02-18 08:57:59     0.335593  0.445946  0.007954  0.653043       0.004087   \n",
              "2015-02-18 08:58:59     0.343297  0.445836  0.012177  0.644879       0.004097   \n",
              "2015-02-18 09:00:00     0.344838  0.444737  0.010016  0.639219       0.004095   \n",
              "2015-02-18 09:01:00     0.344838  0.444737  0.007070  0.630954       0.004095   \n",
              "2015-02-18 09:02:00     0.340216  0.443639  0.004124  0.624944       0.004085   \n",
              "2015-02-18 09:03:00     0.335593  0.442540  0.004124  0.622239       0.004075   \n",
              "2015-02-18 09:04:00     0.337134  0.442906  0.007856  0.622640       0.004078   \n",
              "2015-02-18 09:04:59     0.335593  0.442540  0.006776  0.619384       0.004075   \n",
              "2015-02-18 09:06:00     0.330971  0.441441  0.005892  0.623742       0.004065   \n",
              "2015-02-18 09:07:00     0.340216  0.443639  0.007070  0.621337       0.004085   \n",
              "2015-02-18 09:08:00     0.330971  0.441441  0.008249  0.620235       0.004065   \n",
              "2015-02-18 09:08:59     0.330971  0.440453  0.005892  0.626446       0.004061   \n",
              "2015-02-18 09:10:00     0.330971  0.439464  0.029901  0.631705       0.004058   \n",
              "2015-02-18 09:10:59     0.330971  0.456054  0.174400  0.633659       0.004116   \n",
              "2015-02-18 09:11:59     0.330971  0.451989  0.246870  0.646281       0.004101   \n",
              "2015-02-18 09:13:00     0.330971  0.463708  0.252762  0.645079       0.004142   \n",
              "2015-02-18 09:14:00     0.335593  0.469018  0.253793  0.660556       0.004167   \n",
              "2015-02-18 09:15:00     0.335593  0.482202  0.253204  0.656649       0.004213   \n",
              "2015-02-18 09:16:00     0.344838  0.483410  0.249521  0.662209       0.004230   \n",
              "2015-02-18 09:16:59     0.349461  0.483410  0.249521  0.666416       0.004237   \n",
              "2015-02-18 09:17:59     0.349461  0.495605  0.246723  0.732832       0.004279   \n",
              "2015-02-18 09:19:00     0.369800  0.499011  0.240978  0.872276       0.004321   \n",
              "\n",
              "                     Occupancy  \n",
              "date                            \n",
              "2015-02-02 14:19:00        0.5  \n",
              "2015-02-02 14:19:59        0.5  \n",
              "2015-02-02 14:21:00        0.5  \n",
              "2015-02-02 14:22:00        0.5  \n",
              "2015-02-02 14:23:00        0.5  \n",
              "2015-02-02 14:23:59        0.5  \n",
              "2015-02-02 14:25:00        0.5  \n",
              "2015-02-02 14:25:59        0.5  \n",
              "2015-02-02 14:26:59        0.5  \n",
              "2015-02-02 14:28:00        0.5  \n",
              "2015-02-02 14:29:00        0.5  \n",
              "2015-02-02 14:30:00        0.5  \n",
              "2015-02-02 14:31:00        0.5  \n",
              "2015-02-02 14:31:59        0.5  \n",
              "2015-02-02 14:32:59        0.5  \n",
              "2015-02-02 14:34:00        0.5  \n",
              "2015-02-02 14:35:00        0.5  \n",
              "2015-02-02 14:36:00        0.5  \n",
              "2015-02-02 14:37:00        0.5  \n",
              "2015-02-02 14:38:00        0.5  \n",
              "2015-02-02 14:38:59        0.5  \n",
              "2015-02-02 14:39:59        0.5  \n",
              "2015-02-02 14:41:00        0.5  \n",
              "2015-02-02 14:42:00        0.5  \n",
              "2015-02-02 14:43:00        0.5  \n",
              "2015-02-02 14:44:00        0.5  \n",
              "2015-02-02 14:44:59        0.5  \n",
              "2015-02-02 14:45:59        0.5  \n",
              "2015-02-02 14:47:00        0.5  \n",
              "2015-02-02 14:48:00        0.5  \n",
              "...                        ...  \n",
              "2015-02-18 08:50:00        0.0  \n",
              "2015-02-18 08:51:00        0.0  \n",
              "2015-02-18 08:51:59        0.0  \n",
              "2015-02-18 08:53:00        0.0  \n",
              "2015-02-18 08:54:00        0.0  \n",
              "2015-02-18 08:55:00        0.0  \n",
              "2015-02-18 08:55:59        0.0  \n",
              "2015-02-18 08:57:00        0.0  \n",
              "2015-02-18 08:57:59        0.0  \n",
              "2015-02-18 08:58:59        0.0  \n",
              "2015-02-18 09:00:00        0.0  \n",
              "2015-02-18 09:01:00        0.0  \n",
              "2015-02-18 09:02:00        0.0  \n",
              "2015-02-18 09:03:00        0.0  \n",
              "2015-02-18 09:04:00        0.0  \n",
              "2015-02-18 09:04:59        0.0  \n",
              "2015-02-18 09:06:00        0.0  \n",
              "2015-02-18 09:07:00        0.0  \n",
              "2015-02-18 09:08:00        0.0  \n",
              "2015-02-18 09:08:59        0.0  \n",
              "2015-02-18 09:10:00        0.0  \n",
              "2015-02-18 09:10:59        0.5  \n",
              "2015-02-18 09:11:59        0.5  \n",
              "2015-02-18 09:13:00        0.5  \n",
              "2015-02-18 09:14:00        0.5  \n",
              "2015-02-18 09:15:00        0.5  \n",
              "2015-02-18 09:16:00        0.5  \n",
              "2015-02-18 09:16:59        0.5  \n",
              "2015-02-18 09:17:59        0.5  \n",
              "2015-02-18 09:19:00        0.5  \n",
              "\n",
              "[5586 rows x 6 columns]"
            ]
          },
          "metadata": {
            "tags": []
          },
          "execution_count": 32
        }
      ]
    },
    {
      "cell_type": "markdown",
      "metadata": {
        "id": "PyHSFQ0V8eYZ",
        "colab_type": "text"
      },
      "source": [
        "You can also do fancy conversions using a pd.Series"
      ]
    },
    {
      "cell_type": "code",
      "metadata": {
        "id": "Yn3a-aE9eG76",
        "colab_type": "code",
        "outputId": "07aa6ac1-3479-4c8e-f8a4-c5c48f82b6fe",
        "colab": {
          "base_uri": "https://localhost:8080/",
          "height": 1162
        }
      },
      "source": [
        "\n",
        "days = ['Mon','Tue','Wed','Thu','Fri','Sat','sun']\n",
        "#pd.Series(pdf.index.weekday,pdf.index).map(pd.Series(days))\n",
        "pd.Series(pdf.index.weekday,pdf.index).map(lambda x: days[x] + '-'+ str(x))"
      ],
      "execution_count": 0,
      "outputs": [
        {
          "output_type": "execute_result",
          "data": {
            "text/plain": [
              "date\n",
              "2015-02-02 14:19:00    Mon-0\n",
              "2015-02-02 14:19:59    Mon-0\n",
              "2015-02-02 14:21:00    Mon-0\n",
              "2015-02-02 14:22:00    Mon-0\n",
              "2015-02-02 14:23:00    Mon-0\n",
              "2015-02-02 14:23:59    Mon-0\n",
              "2015-02-02 14:25:00    Mon-0\n",
              "2015-02-02 14:25:59    Mon-0\n",
              "2015-02-02 14:26:59    Mon-0\n",
              "2015-02-02 14:28:00    Mon-0\n",
              "2015-02-02 14:29:00    Mon-0\n",
              "2015-02-02 14:30:00    Mon-0\n",
              "2015-02-02 14:31:00    Mon-0\n",
              "2015-02-02 14:31:59    Mon-0\n",
              "2015-02-02 14:32:59    Mon-0\n",
              "2015-02-02 14:34:00    Mon-0\n",
              "2015-02-02 14:35:00    Mon-0\n",
              "2015-02-02 14:36:00    Mon-0\n",
              "2015-02-02 14:37:00    Mon-0\n",
              "2015-02-02 14:38:00    Mon-0\n",
              "2015-02-02 14:38:59    Mon-0\n",
              "2015-02-02 14:39:59    Mon-0\n",
              "2015-02-02 14:41:00    Mon-0\n",
              "2015-02-02 14:42:00    Mon-0\n",
              "2015-02-02 14:43:00    Mon-0\n",
              "2015-02-02 14:44:00    Mon-0\n",
              "2015-02-02 14:44:59    Mon-0\n",
              "2015-02-02 14:45:59    Mon-0\n",
              "2015-02-02 14:47:00    Mon-0\n",
              "2015-02-02 14:48:00    Mon-0\n",
              "                       ...  \n",
              "2015-02-18 08:50:00    Wed-2\n",
              "2015-02-18 08:51:00    Wed-2\n",
              "2015-02-18 08:51:59    Wed-2\n",
              "2015-02-18 08:53:00    Wed-2\n",
              "2015-02-18 08:54:00    Wed-2\n",
              "2015-02-18 08:55:00    Wed-2\n",
              "2015-02-18 08:55:59    Wed-2\n",
              "2015-02-18 08:57:00    Wed-2\n",
              "2015-02-18 08:57:59    Wed-2\n",
              "2015-02-18 08:58:59    Wed-2\n",
              "2015-02-18 09:00:00    Wed-2\n",
              "2015-02-18 09:01:00    Wed-2\n",
              "2015-02-18 09:02:00    Wed-2\n",
              "2015-02-18 09:03:00    Wed-2\n",
              "2015-02-18 09:04:00    Wed-2\n",
              "2015-02-18 09:04:59    Wed-2\n",
              "2015-02-18 09:06:00    Wed-2\n",
              "2015-02-18 09:07:00    Wed-2\n",
              "2015-02-18 09:08:00    Wed-2\n",
              "2015-02-18 09:08:59    Wed-2\n",
              "2015-02-18 09:10:00    Wed-2\n",
              "2015-02-18 09:10:59    Wed-2\n",
              "2015-02-18 09:11:59    Wed-2\n",
              "2015-02-18 09:13:00    Wed-2\n",
              "2015-02-18 09:14:00    Wed-2\n",
              "2015-02-18 09:15:00    Wed-2\n",
              "2015-02-18 09:16:00    Wed-2\n",
              "2015-02-18 09:16:59    Wed-2\n",
              "2015-02-18 09:17:59    Wed-2\n",
              "2015-02-18 09:19:00    Wed-2\n",
              "Name: date, Length: 20560, dtype: object"
            ]
          },
          "metadata": {
            "tags": []
          },
          "execution_count": 80
        }
      ]
    },
    {
      "cell_type": "markdown",
      "metadata": {
        "id": "wgkPOLF88z6g",
        "colab_type": "text"
      },
      "source": [
        "See the pandas timeseries guide for more details: https://pandas.pydata.org/pandas-docs/stable/user_guide/timeseries.html"
      ]
    },
    {
      "cell_type": "code",
      "metadata": {
        "id": "51Q8VU2e87Dp",
        "colab_type": "code",
        "colab": {}
      },
      "source": [
        "# See this for rolling windows: https://pandas.pydata.org/pandas-docs/stable/user_guide/computation.html#stats-aggregate\n",
        "# https://github.com/pandas-dev/pandas/issues/15354"
      ],
      "execution_count": 0,
      "outputs": []
    }
  ]
}